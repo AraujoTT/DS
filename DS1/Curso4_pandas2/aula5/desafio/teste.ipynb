{
 "cells": [
  {
   "cell_type": "code",
   "execution_count": 1,
   "metadata": {},
   "outputs": [],
   "source": [
    "import pandas as pd\n",
    "import sqlalchemy\n",
    "from sqlalchemy import create_engine, MetaData, Table, inspect"
   ]
  },
  {
   "cell_type": "code",
   "execution_count": 2,
   "metadata": {},
   "outputs": [],
   "source": [
    "url = 'https://raw.githubusercontent.com/alura-cursos/Pandas/main/clientes_banco.csv'\n",
    "engine = create_engine('sqlite:///:memory:')"
   ]
  },
  {
   "cell_type": "code",
   "execution_count": 3,
   "metadata": {},
   "outputs": [
    {
     "data": {
      "text/html": [
       "<div>\n",
       "<style scoped>\n",
       "    .dataframe tbody tr th:only-of-type {\n",
       "        vertical-align: middle;\n",
       "    }\n",
       "\n",
       "    .dataframe tbody tr th {\n",
       "        vertical-align: top;\n",
       "    }\n",
       "\n",
       "    .dataframe thead th {\n",
       "        text-align: right;\n",
       "    }\n",
       "</style>\n",
       "<table border=\"1\" class=\"dataframe\">\n",
       "  <thead>\n",
       "    <tr style=\"text-align: right;\">\n",
       "      <th></th>\n",
       "      <th>ID_Cliente</th>\n",
       "      <th>Idade</th>\n",
       "      <th>Grau_escolaridade</th>\n",
       "      <th>Estado_civil</th>\n",
       "      <th>Tamanho_familia</th>\n",
       "      <th>Categoria_de_renda</th>\n",
       "      <th>Ocupacao</th>\n",
       "      <th>Anos_empregado</th>\n",
       "      <th>Rendimento_anual</th>\n",
       "      <th>Tem_carro</th>\n",
       "      <th>Moradia</th>\n",
       "    </tr>\n",
       "  </thead>\n",
       "  <tbody>\n",
       "    <tr>\n",
       "      <th>0</th>\n",
       "      <td>5008804</td>\n",
       "      <td>32</td>\n",
       "      <td>Ensino superior</td>\n",
       "      <td>União-estável</td>\n",
       "      <td>2</td>\n",
       "      <td>Empregado</td>\n",
       "      <td>Outro</td>\n",
       "      <td>12</td>\n",
       "      <td>427500.0</td>\n",
       "      <td>1</td>\n",
       "      <td>Apartamento alugado</td>\n",
       "    </tr>\n",
       "    <tr>\n",
       "      <th>1</th>\n",
       "      <td>5008805</td>\n",
       "      <td>32</td>\n",
       "      <td>Ensino superior</td>\n",
       "      <td>União-estável</td>\n",
       "      <td>2</td>\n",
       "      <td>Empregado</td>\n",
       "      <td>Outro</td>\n",
       "      <td>12</td>\n",
       "      <td>427500.0</td>\n",
       "      <td>1</td>\n",
       "      <td>Apartamento alugado</td>\n",
       "    </tr>\n",
       "    <tr>\n",
       "      <th>2</th>\n",
       "      <td>5008806</td>\n",
       "      <td>58</td>\n",
       "      <td>Ensino médio</td>\n",
       "      <td>Casado</td>\n",
       "      <td>2</td>\n",
       "      <td>Empregado</td>\n",
       "      <td>Segurança</td>\n",
       "      <td>3</td>\n",
       "      <td>112500.0</td>\n",
       "      <td>1</td>\n",
       "      <td>Casa/apartamento próprio</td>\n",
       "    </tr>\n",
       "    <tr>\n",
       "      <th>3</th>\n",
       "      <td>5008808</td>\n",
       "      <td>52</td>\n",
       "      <td>Ensino médio</td>\n",
       "      <td>Solteiro</td>\n",
       "      <td>1</td>\n",
       "      <td>Associado comercial</td>\n",
       "      <td>Vendas</td>\n",
       "      <td>8</td>\n",
       "      <td>270000.0</td>\n",
       "      <td>0</td>\n",
       "      <td>Casa/apartamento próprio</td>\n",
       "    </tr>\n",
       "    <tr>\n",
       "      <th>4</th>\n",
       "      <td>5008809</td>\n",
       "      <td>52</td>\n",
       "      <td>Ensino médio</td>\n",
       "      <td>Solteiro</td>\n",
       "      <td>1</td>\n",
       "      <td>Associado comercial</td>\n",
       "      <td>Vendas</td>\n",
       "      <td>8</td>\n",
       "      <td>270000.0</td>\n",
       "      <td>0</td>\n",
       "      <td>Casa/apartamento próprio</td>\n",
       "    </tr>\n",
       "  </tbody>\n",
       "</table>\n",
       "</div>"
      ],
      "text/plain": [
       "   ID_Cliente  Idade Grau_escolaridade   Estado_civil  Tamanho_familia  \\\n",
       "0     5008804     32   Ensino superior  União-estável                2   \n",
       "1     5008805     32   Ensino superior  União-estável                2   \n",
       "2     5008806     58      Ensino médio         Casado                2   \n",
       "3     5008808     52      Ensino médio       Solteiro                1   \n",
       "4     5008809     52      Ensino médio       Solteiro                1   \n",
       "\n",
       "    Categoria_de_renda   Ocupacao  Anos_empregado  Rendimento_anual  \\\n",
       "0            Empregado      Outro              12          427500.0   \n",
       "1            Empregado      Outro              12          427500.0   \n",
       "2            Empregado  Segurança               3          112500.0   \n",
       "3  Associado comercial     Vendas               8          270000.0   \n",
       "4  Associado comercial     Vendas               8          270000.0   \n",
       "\n",
       "   Tem_carro                   Moradia  \n",
       "0          1       Apartamento alugado  \n",
       "1          1       Apartamento alugado  \n",
       "2          1  Casa/apartamento próprio  \n",
       "3          0  Casa/apartamento próprio  \n",
       "4          0  Casa/apartamento próprio  "
      ]
     },
     "execution_count": 3,
     "metadata": {},
     "output_type": "execute_result"
    }
   ],
   "source": [
    "dados= pd.read_csv(url)\n",
    "dados.head()"
   ]
  },
  {
   "cell_type": "code",
   "execution_count": 4,
   "metadata": {},
   "outputs": [
    {
     "name": "stdout",
     "output_type": "stream",
     "text": [
      "['clientes']\n"
     ]
    }
   ],
   "source": [
    "dados.to_sql('clientes', engine, index=False)\n",
    "inspector = inspect(engine)\n",
    "print(inspector.get_table_names())"
   ]
  },
  {
   "cell_type": "code",
   "execution_count": 5,
   "metadata": {},
   "outputs": [
    {
     "data": {
      "text/html": [
       "<div>\n",
       "<style scoped>\n",
       "    .dataframe tbody tr th:only-of-type {\n",
       "        vertical-align: middle;\n",
       "    }\n",
       "\n",
       "    .dataframe tbody tr th {\n",
       "        vertical-align: top;\n",
       "    }\n",
       "\n",
       "    .dataframe thead th {\n",
       "        text-align: right;\n",
       "    }\n",
       "</style>\n",
       "<table border=\"1\" class=\"dataframe\">\n",
       "  <thead>\n",
       "    <tr style=\"text-align: right;\">\n",
       "      <th></th>\n",
       "      <th>ID_Cliente</th>\n",
       "      <th>Idade</th>\n",
       "      <th>Grau_escolaridade</th>\n",
       "      <th>Estado_civil</th>\n",
       "      <th>Tamanho_familia</th>\n",
       "      <th>Categoria_de_renda</th>\n",
       "      <th>Ocupacao</th>\n",
       "      <th>Anos_empregado</th>\n",
       "      <th>Rendimento_anual</th>\n",
       "      <th>Tem_carro</th>\n",
       "      <th>Moradia</th>\n",
       "    </tr>\n",
       "  </thead>\n",
       "  <tbody>\n",
       "    <tr>\n",
       "      <th>0</th>\n",
       "      <td>6840104</td>\n",
       "      <td>62</td>\n",
       "      <td>Ensino médio</td>\n",
       "      <td>Divorciado</td>\n",
       "      <td>1</td>\n",
       "      <td>Pensionista</td>\n",
       "      <td>Outro</td>\n",
       "      <td>0</td>\n",
       "      <td>135000.0</td>\n",
       "      <td>0</td>\n",
       "      <td>Casa/apartamento próprio</td>\n",
       "    </tr>\n",
       "  </tbody>\n",
       "</table>\n",
       "</div>"
      ],
      "text/plain": [
       "   ID_Cliente  Idade Grau_escolaridade Estado_civil  Tamanho_familia  \\\n",
       "0     6840104     62      Ensino médio   Divorciado                1   \n",
       "\n",
       "  Categoria_de_renda Ocupacao  Anos_empregado  Rendimento_anual  Tem_carro  \\\n",
       "0        Pensionista    Outro               0          135000.0          0   \n",
       "\n",
       "                    Moradia  \n",
       "0  Casa/apartamento próprio  "
      ]
     },
     "execution_count": 5,
     "metadata": {},
     "output_type": "execute_result"
    }
   ],
   "source": [
    "query = 'SELECT * FROM clientes WHERE ID_Cliente = 6840104 '\n",
    "pd.read_sql(query, engine)"
   ]
  },
  {
   "cell_type": "code",
   "execution_count": 6,
   "metadata": {},
   "outputs": [
    {
     "name": "stderr",
     "output_type": "stream",
     "text": [
      "C:\\Users\\luist\\AppData\\Local\\Temp\\ipykernel_10160\\1563820390.py:3: RemovedIn20Warning: Deprecated API features detected! These feature(s) are not compatible with SQLAlchemy 2.0. To prevent incompatible upgrades prior to updating applications, ensure requirements files are pinned to \"sqlalchemy<2.0\". Set environment variable SQLALCHEMY_WARN_20=1 to show all deprecation warnings.  Set environment variable SQLALCHEMY_SILENCE_UBER_WARNING=1 to silence this message. (Background on SQLAlchemy 2.0 at: https://sqlalche.me/e/b8d9)\n",
      "  conn.execute(query)\n"
     ]
    }
   ],
   "source": [
    "query = 'UPDATE clientes SET Rendimento_anual = 300000 WHERE ID_Cliente = 6840104 '\n",
    "with engine.connect() as conn:\n",
    "    conn.execute(query)"
   ]
  },
  {
   "cell_type": "code",
   "execution_count": 7,
   "metadata": {},
   "outputs": [
    {
     "data": {
      "text/html": [
       "<div>\n",
       "<style scoped>\n",
       "    .dataframe tbody tr th:only-of-type {\n",
       "        vertical-align: middle;\n",
       "    }\n",
       "\n",
       "    .dataframe tbody tr th {\n",
       "        vertical-align: top;\n",
       "    }\n",
       "\n",
       "    .dataframe thead th {\n",
       "        text-align: right;\n",
       "    }\n",
       "</style>\n",
       "<table border=\"1\" class=\"dataframe\">\n",
       "  <thead>\n",
       "    <tr style=\"text-align: right;\">\n",
       "      <th></th>\n",
       "      <th>ID_Cliente</th>\n",
       "      <th>Idade</th>\n",
       "      <th>Grau_escolaridade</th>\n",
       "      <th>Estado_civil</th>\n",
       "      <th>Tamanho_familia</th>\n",
       "      <th>Categoria_de_renda</th>\n",
       "      <th>Ocupacao</th>\n",
       "      <th>Anos_empregado</th>\n",
       "      <th>Rendimento_anual</th>\n",
       "      <th>Tem_carro</th>\n",
       "      <th>Moradia</th>\n",
       "    </tr>\n",
       "  </thead>\n",
       "  <tbody>\n",
       "    <tr>\n",
       "      <th>0</th>\n",
       "      <td>6840104</td>\n",
       "      <td>62</td>\n",
       "      <td>Ensino médio</td>\n",
       "      <td>Divorciado</td>\n",
       "      <td>1</td>\n",
       "      <td>Pensionista</td>\n",
       "      <td>Outro</td>\n",
       "      <td>0</td>\n",
       "      <td>300000.0</td>\n",
       "      <td>0</td>\n",
       "      <td>Casa/apartamento próprio</td>\n",
       "    </tr>\n",
       "  </tbody>\n",
       "</table>\n",
       "</div>"
      ],
      "text/plain": [
       "   ID_Cliente  Idade Grau_escolaridade Estado_civil  Tamanho_familia  \\\n",
       "0     6840104     62      Ensino médio   Divorciado                1   \n",
       "\n",
       "  Categoria_de_renda Ocupacao  Anos_empregado  Rendimento_anual  Tem_carro  \\\n",
       "0        Pensionista    Outro               0          300000.0          0   \n",
       "\n",
       "                    Moradia  \n",
       "0  Casa/apartamento próprio  "
      ]
     },
     "execution_count": 7,
     "metadata": {},
     "output_type": "execute_result"
    }
   ],
   "source": [
    "query = 'SELECT * FROM clientes WHERE ID_Cliente = 6840104 '\n",
    "pd.read_sql(query, engine)"
   ]
  },
  {
   "cell_type": "code",
   "execution_count": 8,
   "metadata": {},
   "outputs": [
    {
     "data": {
      "text/html": [
       "<div>\n",
       "<style scoped>\n",
       "    .dataframe tbody tr th:only-of-type {\n",
       "        vertical-align: middle;\n",
       "    }\n",
       "\n",
       "    .dataframe tbody tr th {\n",
       "        vertical-align: top;\n",
       "    }\n",
       "\n",
       "    .dataframe thead th {\n",
       "        text-align: right;\n",
       "    }\n",
       "</style>\n",
       "<table border=\"1\" class=\"dataframe\">\n",
       "  <thead>\n",
       "    <tr style=\"text-align: right;\">\n",
       "      <th></th>\n",
       "      <th>ID_Cliente</th>\n",
       "      <th>Idade</th>\n",
       "      <th>Grau_escolaridade</th>\n",
       "      <th>Estado_civil</th>\n",
       "      <th>Tamanho_familia</th>\n",
       "      <th>Categoria_de_renda</th>\n",
       "      <th>Ocupacao</th>\n",
       "      <th>Anos_empregado</th>\n",
       "      <th>Rendimento_anual</th>\n",
       "      <th>Tem_carro</th>\n",
       "      <th>Moradia</th>\n",
       "    </tr>\n",
       "  </thead>\n",
       "  <tbody>\n",
       "  </tbody>\n",
       "</table>\n",
       "</div>"
      ],
      "text/plain": [
       "Empty DataFrame\n",
       "Columns: [ID_Cliente, Idade, Grau_escolaridade, Estado_civil, Tamanho_familia, Categoria_de_renda, Ocupacao, Anos_empregado, Rendimento_anual, Tem_carro, Moradia]\n",
       "Index: []"
      ]
     },
     "execution_count": 8,
     "metadata": {},
     "output_type": "execute_result"
    }
   ],
   "source": [
    "query = 'DELETE FROM clientes WHERE ID_CLiente = 5008809'\n",
    "with engine.connect() as conn:\n",
    "    conn.execute(query)\n",
    "query = 'SELECT * FROM clientes WHERE ID_Cliente = 5008809 '\n",
    "pd.read_sql(query, engine)"
   ]
  },
  {
   "cell_type": "code",
   "execution_count": 9,
   "metadata": {},
   "outputs": [
    {
     "data": {
      "text/html": [
       "<div>\n",
       "<style scoped>\n",
       "    .dataframe tbody tr th:only-of-type {\n",
       "        vertical-align: middle;\n",
       "    }\n",
       "\n",
       "    .dataframe tbody tr th {\n",
       "        vertical-align: top;\n",
       "    }\n",
       "\n",
       "    .dataframe thead th {\n",
       "        text-align: right;\n",
       "    }\n",
       "</style>\n",
       "<table border=\"1\" class=\"dataframe\">\n",
       "  <thead>\n",
       "    <tr style=\"text-align: right;\">\n",
       "      <th></th>\n",
       "      <th>ID_Cliente</th>\n",
       "      <th>Idade</th>\n",
       "      <th>Grau_escolaridade</th>\n",
       "      <th>Estado_civil</th>\n",
       "      <th>Tamanho_familia</th>\n",
       "      <th>Categoria_de_renda</th>\n",
       "      <th>Ocupacao</th>\n",
       "      <th>Anos_empregado</th>\n",
       "      <th>Rendimento_anual</th>\n",
       "      <th>Tem_carro</th>\n",
       "      <th>Moradia</th>\n",
       "    </tr>\n",
       "  </thead>\n",
       "  <tbody>\n",
       "    <tr>\n",
       "      <th>0</th>\n",
       "      <td>6850985</td>\n",
       "      <td>33</td>\n",
       "      <td>Doutorado</td>\n",
       "      <td>Solteiro</td>\n",
       "      <td>1</td>\n",
       "      <td>Empregado</td>\n",
       "      <td>TI</td>\n",
       "      <td>2</td>\n",
       "      <td>290000.0</td>\n",
       "      <td>0</td>\n",
       "      <td>Casa/apartamento/proprio</td>\n",
       "    </tr>\n",
       "  </tbody>\n",
       "</table>\n",
       "</div>"
      ],
      "text/plain": [
       "   ID_Cliente  Idade Grau_escolaridade Estado_civil  Tamanho_familia  \\\n",
       "0     6850985     33         Doutorado     Solteiro                1   \n",
       "\n",
       "  Categoria_de_renda Ocupacao  Anos_empregado  Rendimento_anual  Tem_carro  \\\n",
       "0          Empregado       TI               2          290000.0          0   \n",
       "\n",
       "                    Moradia  \n",
       "0  Casa/apartamento/proprio  "
      ]
     },
     "execution_count": 9,
     "metadata": {},
     "output_type": "execute_result"
    }
   ],
   "source": [
    "query = 'INSERT INTO clientes (ID_Cliente, Idade, Grau_escolaridade, Estado_civil, Tamanho_familia, Categoria_de_renda, Ocupacao, Anos_empregado, Rendimento_anual, Tem_carro, Moradia)'\\\n",
    "        'VALUES (6850985, 33, \"Doutorado\", \"Solteiro\", 1, \"Empregado\", \"TI\", 2, 290000, 0, \"Casa/apartamento/proprio\")'\n",
    "with engine.connect() as conn:\n",
    "    conn.execute(query)\n",
    "query = 'SELECT * FROM clientes WHERE ID_Cliente = 6850985 '\n",
    "pd.read_sql(query, engine)"
   ]
  },
  {
   "cell_type": "code",
   "execution_count": null,
   "metadata": {},
   "outputs": [],
   "source": []
  }
 ],
 "metadata": {
  "kernelspec": {
   "display_name": "Python 3",
   "language": "python",
   "name": "python3"
  },
  "language_info": {
   "codemirror_mode": {
    "name": "ipython",
    "version": 3
   },
   "file_extension": ".py",
   "mimetype": "text/x-python",
   "name": "python",
   "nbconvert_exporter": "python",
   "pygments_lexer": "ipython3",
   "version": "3.11.3"
  }
 },
 "nbformat": 4,
 "nbformat_minor": 2
}
