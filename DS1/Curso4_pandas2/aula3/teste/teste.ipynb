{
 "cells": [
  {
   "cell_type": "code",
   "execution_count": 23,
   "metadata": {},
   "outputs": [],
   "source": [
    "import pandas as pd\n",
    "import json"
   ]
  },
  {
   "cell_type": "code",
   "execution_count": 24,
   "metadata": {},
   "outputs": [],
   "source": [
    "dados_gerenciamento = pd.read_json('info2.json')"
   ]
  },
  {
   "cell_type": "code",
   "execution_count": 25,
   "metadata": {},
   "outputs": [],
   "source": [
    "gerenciamento_normalizado = pd.json_normalize(dados_gerenciamento['Sitio']['Bois']['Gastos'])"
   ]
  },
  {
   "cell_type": "code",
   "execution_count": 26,
   "metadata": {},
   "outputs": [
    {
     "data": {
      "text/html": [
       "<div>\n",
       "<style scoped>\n",
       "    .dataframe tbody tr th:only-of-type {\n",
       "        vertical-align: middle;\n",
       "    }\n",
       "\n",
       "    .dataframe tbody tr th {\n",
       "        vertical-align: top;\n",
       "    }\n",
       "\n",
       "    .dataframe thead th {\n",
       "        text-align: right;\n",
       "    }\n",
       "</style>\n",
       "<table border=\"1\" class=\"dataframe\">\n",
       "  <thead>\n",
       "    <tr style=\"text-align: right;\">\n",
       "      <th></th>\n",
       "      <th>Valor</th>\n",
       "      <th>Descricao</th>\n",
       "      <th>Data</th>\n",
       "    </tr>\n",
       "  </thead>\n",
       "  <tbody>\n",
       "    <tr>\n",
       "      <th>0</th>\n",
       "      <td>18000.0</td>\n",
       "      <td>9 garrotes 8@</td>\n",
       "      <td>26/09/2023</td>\n",
       "    </tr>\n",
       "    <tr>\n",
       "      <th>1</th>\n",
       "      <td>120.0</td>\n",
       "      <td>vacina</td>\n",
       "      <td>28/09/2023</td>\n",
       "    </tr>\n",
       "    <tr>\n",
       "      <th>2</th>\n",
       "      <td>30.0</td>\n",
       "      <td>pesagem</td>\n",
       "      <td>26/09/2023</td>\n",
       "    </tr>\n",
       "    <tr>\n",
       "      <th>3</th>\n",
       "      <td>13125.0</td>\n",
       "      <td>7 bezerros(maicom)</td>\n",
       "      <td>20/09/2023</td>\n",
       "    </tr>\n",
       "    <tr>\n",
       "      <th>4</th>\n",
       "      <td>6800.0</td>\n",
       "      <td>4 bezzeros 7@(wesley)</td>\n",
       "      <td>21/09/2023</td>\n",
       "    </tr>\n",
       "    <tr>\n",
       "      <th>5</th>\n",
       "      <td>332.5</td>\n",
       "      <td>175kg Sal-Proteinado</td>\n",
       "      <td>24/09/2023</td>\n",
       "    </tr>\n",
       "    <tr>\n",
       "      <th>6</th>\n",
       "      <td>3575.0</td>\n",
       "      <td>3 bezzeros(Sidnei)</td>\n",
       "      <td>24/09/2023</td>\n",
       "    </tr>\n",
       "    <tr>\n",
       "      <th>7</th>\n",
       "      <td>188.0</td>\n",
       "      <td>100 kg sal proteinado</td>\n",
       "      <td>08/10/2023</td>\n",
       "    </tr>\n",
       "    <tr>\n",
       "      <th>8</th>\n",
       "      <td>50.0</td>\n",
       "      <td>combustivel</td>\n",
       "      <td>07/10/2023</td>\n",
       "    </tr>\n",
       "  </tbody>\n",
       "</table>\n",
       "</div>"
      ],
      "text/plain": [
       "     Valor              Descricao        Data\n",
       "0  18000.0          9 garrotes 8@  26/09/2023\n",
       "1    120.0                 vacina  28/09/2023\n",
       "2     30.0                pesagem  26/09/2023\n",
       "3  13125.0     7 bezerros(maicom)  20/09/2023\n",
       "4   6800.0  4 bezzeros 7@(wesley)  21/09/2023\n",
       "5    332.5   175kg Sal-Proteinado  24/09/2023\n",
       "6   3575.0     3 bezzeros(Sidnei)  24/09/2023\n",
       "7    188.0  100 kg sal proteinado  08/10/2023\n",
       "8     50.0            combustivel  07/10/2023"
      ]
     },
     "execution_count": 26,
     "metadata": {},
     "output_type": "execute_result"
    }
   ],
   "source": [
    "gerenciamento_normalizado"
   ]
  },
  {
   "cell_type": "code",
   "execution_count": null,
   "metadata": {},
   "outputs": [],
   "source": []
  }
 ],
 "metadata": {
  "kernelspec": {
   "display_name": "Python 3",
   "language": "python",
   "name": "python3"
  },
  "language_info": {
   "codemirror_mode": {
    "name": "ipython",
    "version": 3
   },
   "file_extension": ".py",
   "mimetype": "text/x-python",
   "name": "python",
   "nbconvert_exporter": "python",
   "pygments_lexer": "ipython3",
   "version": "3.11.3"
  }
 },
 "nbformat": 4,
 "nbformat_minor": 2
}
