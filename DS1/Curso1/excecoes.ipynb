{
 "cells": [
  {
   "cell_type": "code",
   "execution_count": 2,
   "metadata": {},
   "outputs": [],
   "source": [
    "notas = {'João': [8.0, 9.0, 10.0], 'Maria': [9.0, 7.0, 6.0],\n",
    "    'José': [3.4, 7.0, 8.0],'Cláudia': [5.5, 6.6, 8.0],\n",
    "    'Ana': [6.0, 10.0, 9.5], 'Joaquim': [5.5, 7.5, 9.0],\n",
    "    'Júlia': [6.0, 8.0, 7.0], 'Pedro': [3.0, 4.0, 6.0]}\n"
   ]
  },
  {
   "cell_type": "code",
   "execution_count": 7,
   "metadata": {},
   "outputs": [
    {
     "ename": "KeyError",
     "evalue": "'Thiago'",
     "output_type": "error",
     "traceback": [
      "\u001b[1;31m---------------------------------------------------------------------------\u001b[0m",
      "\u001b[1;31mKeyError\u001b[0m                                  Traceback (most recent call last)",
      "\u001b[1;32mc:\\Users\\luist\\Desktop\\Spacex\\py\\DS\\Curso1\\excecoes.ipynb Cell 2\u001b[0m line \u001b[0;36m2\n\u001b[0;32m      <a href='vscode-notebook-cell:/c%3A/Users/luist/Desktop/Spacex/py/DS/Curso1/excecoes.ipynb#W1sZmlsZQ%3D%3D?line=0'>1</a>\u001b[0m nome \u001b[39m=\u001b[39m \u001b[39minput\u001b[39m(\u001b[39m\"\u001b[39m\u001b[39mDigite o nome do aluno(a): \u001b[39m\u001b[39m\"\u001b[39m)\u001b[39m.\u001b[39mtitle()\n\u001b[1;32m----> <a href='vscode-notebook-cell:/c%3A/Users/luist/Desktop/Spacex/py/DS/Curso1/excecoes.ipynb#W1sZmlsZQ%3D%3D?line=1'>2</a>\u001b[0m resultado \u001b[39m=\u001b[39m notas[nome]\n\u001b[0;32m      <a href='vscode-notebook-cell:/c%3A/Users/luist/Desktop/Spacex/py/DS/Curso1/excecoes.ipynb#W1sZmlsZQ%3D%3D?line=2'>3</a>\u001b[0m resultado\n",
      "\u001b[1;31mKeyError\u001b[0m: 'Thiago'"
     ]
    }
   ],
   "source": [
    "nome = input(\"Digite o nome do aluno(a): \").title()\n",
    "resultado = notas[nome]\n",
    "resultado"
   ]
  },
  {
   "cell_type": "code",
   "execution_count": 10,
   "metadata": {},
   "outputs": [],
   "source": [
    "try:\n",
    "    nome = input(\"Digite o nome do aluno(a): \").title()\n",
    "    resultado = notas[nome]\n",
    "except Exception as e:\n",
    "    print(type(e), f'Erro: {e}')"
   ]
  },
  {
   "cell_type": "code",
   "execution_count": 14,
   "metadata": {},
   "outputs": [
    {
     "name": "stdout",
     "output_type": "stream",
     "text": [
      "Estudante nao matriculado na turmama\n"
     ]
    }
   ],
   "source": [
    "try:\n",
    "    nome = input(\"Digite o nome do aluno(a): \").title()\n",
    "    resultado = notas[nome]\n",
    "except KeyError:\n",
    "    print(\"Estudante nao matriculado na turmama\")\n"
   ]
  },
  {
   "cell_type": "code",
   "execution_count": 17,
   "metadata": {},
   "outputs": [
    {
     "name": "stdout",
     "output_type": "stream",
     "text": [
      "Estudante nao matriculado na turmama\n"
     ]
    }
   ],
   "source": [
    "try:\n",
    "    nome = input(\"Digite o nome do aluno(a): \").title()\n",
    "    resultado = notas[nome]\n",
    "except KeyError:\n",
    "    print(\"Estudante nao matriculado na turmama\")\n",
    "else:\n",
    "    print(resultado)"
   ]
  },
  {
   "cell_type": "code",
   "execution_count": 20,
   "metadata": {},
   "outputs": [
    {
     "name": "stdout",
     "output_type": "stream",
     "text": [
      "[9.0, 7.0, 6.0]\n",
      "Consulta foi encerrada!\n"
     ]
    }
   ],
   "source": [
    "try:\n",
    "    nome = input(\"Digite o nome do aluno(a): \").title()\n",
    "    resultado = notas[nome]\n",
    "except KeyError:\n",
    "    print(\"Estudante nao matriculado na turmama\")\n",
    "else:\n",
    "    print(resultado)\n",
    "finally:\n",
    "    print(\"Consulta foi encerrada!\")"
   ]
  },
  {
   "cell_type": "code",
   "execution_count": 24,
   "metadata": {},
   "outputs": [],
   "source": [
    "def media(lista : list=[0]) -> float:\n",
    "    calculo  = sum(lista) / len(lista)\n",
    "\n",
    "    if len(lista) > 4:\n",
    "        raise ValueError(\"A lista nao pode possuir mais de 4 notas\")\n",
    "    return calculo\n",
    "    "
   ]
  },
  {
   "cell_type": "code",
   "execution_count": 28,
   "metadata": {},
   "outputs": [
    {
     "ename": "ValueError",
     "evalue": "A lista nao pode possuir mais de 4 notas",
     "output_type": "error",
     "traceback": [
      "\u001b[1;31m---------------------------------------------------------------------------\u001b[0m",
      "\u001b[1;31mValueError\u001b[0m                                Traceback (most recent call last)",
      "\u001b[1;32mc:\\Users\\luist\\Desktop\\Spacex\\py\\DS\\Curso1\\excecoes.ipynb Cell 8\u001b[0m line \u001b[0;36m2\n\u001b[0;32m      <a href='vscode-notebook-cell:/c%3A/Users/luist/Desktop/Spacex/py/DS/Curso1/excecoes.ipynb#X10sZmlsZQ%3D%3D?line=0'>1</a>\u001b[0m notas \u001b[39m=\u001b[39m [\u001b[39m6\u001b[39m, \u001b[39m7\u001b[39m, \u001b[39m8\u001b[39m , \u001b[39m9\u001b[39m, \u001b[39m8\u001b[39m]\n\u001b[1;32m----> <a href='vscode-notebook-cell:/c%3A/Users/luist/Desktop/Spacex/py/DS/Curso1/excecoes.ipynb#X10sZmlsZQ%3D%3D?line=1'>2</a>\u001b[0m resultado \u001b[39m=\u001b[39m media(notas)\n\u001b[0;32m      <a href='vscode-notebook-cell:/c%3A/Users/luist/Desktop/Spacex/py/DS/Curso1/excecoes.ipynb#X10sZmlsZQ%3D%3D?line=2'>3</a>\u001b[0m resultado\n",
      "\u001b[1;32mc:\\Users\\luist\\Desktop\\Spacex\\py\\DS\\Curso1\\excecoes.ipynb Cell 8\u001b[0m line \u001b[0;36m5\n\u001b[0;32m      <a href='vscode-notebook-cell:/c%3A/Users/luist/Desktop/Spacex/py/DS/Curso1/excecoes.ipynb#X10sZmlsZQ%3D%3D?line=1'>2</a>\u001b[0m calculo  \u001b[39m=\u001b[39m \u001b[39msum\u001b[39m(lista) \u001b[39m/\u001b[39m \u001b[39mlen\u001b[39m(lista)\n\u001b[0;32m      <a href='vscode-notebook-cell:/c%3A/Users/luist/Desktop/Spacex/py/DS/Curso1/excecoes.ipynb#X10sZmlsZQ%3D%3D?line=3'>4</a>\u001b[0m \u001b[39mif\u001b[39;00m \u001b[39mlen\u001b[39m(lista) \u001b[39m>\u001b[39m \u001b[39m4\u001b[39m:\n\u001b[1;32m----> <a href='vscode-notebook-cell:/c%3A/Users/luist/Desktop/Spacex/py/DS/Curso1/excecoes.ipynb#X10sZmlsZQ%3D%3D?line=4'>5</a>\u001b[0m     \u001b[39mraise\u001b[39;00m \u001b[39mValueError\u001b[39;00m(\u001b[39m\"\u001b[39m\u001b[39mA lista nao pode possuir mais de 4 notas\u001b[39m\u001b[39m\"\u001b[39m)\n\u001b[0;32m      <a href='vscode-notebook-cell:/c%3A/Users/luist/Desktop/Spacex/py/DS/Curso1/excecoes.ipynb#X10sZmlsZQ%3D%3D?line=5'>6</a>\u001b[0m \u001b[39mreturn\u001b[39;00m calculo\n",
      "\u001b[1;31mValueError\u001b[0m: A lista nao pode possuir mais de 4 notas"
     ]
    }
   ],
   "source": [
    "notas = [6, 7, 8 , 9, 8]\n",
    "resultado = media(notas)\n",
    "resultado"
   ]
  },
  {
   "cell_type": "code",
   "execution_count": 30,
   "metadata": {},
   "outputs": [
    {
     "ename": "TypeError",
     "evalue": "unsupported operand type(s) for +: 'int' and 'str'",
     "output_type": "error",
     "traceback": [
      "\u001b[1;31m---------------------------------------------------------------------------\u001b[0m",
      "\u001b[1;31mTypeError\u001b[0m                                 Traceback (most recent call last)",
      "\u001b[1;32mc:\\Users\\luist\\Desktop\\Spacex\\py\\DS\\Curso1\\excecoes.ipynb Cell 9\u001b[0m line \u001b[0;36m2\n\u001b[0;32m      <a href='vscode-notebook-cell:/c%3A/Users/luist/Desktop/Spacex/py/DS/Curso1/excecoes.ipynb#X11sZmlsZQ%3D%3D?line=0'>1</a>\u001b[0m notas \u001b[39m=\u001b[39m [\u001b[39m6\u001b[39m, \u001b[39m7\u001b[39m, \u001b[39m8\u001b[39m , \u001b[39m9\u001b[39m, \u001b[39m8\u001b[39m, \u001b[39m\"\u001b[39m\u001b[39m8\u001b[39m\u001b[39m\"\u001b[39m]\n\u001b[1;32m----> <a href='vscode-notebook-cell:/c%3A/Users/luist/Desktop/Spacex/py/DS/Curso1/excecoes.ipynb#X11sZmlsZQ%3D%3D?line=1'>2</a>\u001b[0m resultado \u001b[39m=\u001b[39m media(notas)\n\u001b[0;32m      <a href='vscode-notebook-cell:/c%3A/Users/luist/Desktop/Spacex/py/DS/Curso1/excecoes.ipynb#X11sZmlsZQ%3D%3D?line=2'>3</a>\u001b[0m resultado\n",
      "\u001b[1;32mc:\\Users\\luist\\Desktop\\Spacex\\py\\DS\\Curso1\\excecoes.ipynb Cell 9\u001b[0m line \u001b[0;36m2\n\u001b[0;32m      <a href='vscode-notebook-cell:/c%3A/Users/luist/Desktop/Spacex/py/DS/Curso1/excecoes.ipynb#X11sZmlsZQ%3D%3D?line=0'>1</a>\u001b[0m \u001b[39mdef\u001b[39;00m \u001b[39mmedia\u001b[39m(lista : \u001b[39mlist\u001b[39m\u001b[39m=\u001b[39m[\u001b[39m0\u001b[39m]) \u001b[39m-\u001b[39m\u001b[39m>\u001b[39m \u001b[39mfloat\u001b[39m:\n\u001b[1;32m----> <a href='vscode-notebook-cell:/c%3A/Users/luist/Desktop/Spacex/py/DS/Curso1/excecoes.ipynb#X11sZmlsZQ%3D%3D?line=1'>2</a>\u001b[0m     calculo  \u001b[39m=\u001b[39m \u001b[39msum\u001b[39;49m(lista) \u001b[39m/\u001b[39m \u001b[39mlen\u001b[39m(lista)\n\u001b[0;32m      <a href='vscode-notebook-cell:/c%3A/Users/luist/Desktop/Spacex/py/DS/Curso1/excecoes.ipynb#X11sZmlsZQ%3D%3D?line=3'>4</a>\u001b[0m     \u001b[39mif\u001b[39;00m \u001b[39mlen\u001b[39m(lista) \u001b[39m>\u001b[39m \u001b[39m4\u001b[39m:\n\u001b[0;32m      <a href='vscode-notebook-cell:/c%3A/Users/luist/Desktop/Spacex/py/DS/Curso1/excecoes.ipynb#X11sZmlsZQ%3D%3D?line=4'>5</a>\u001b[0m         \u001b[39mraise\u001b[39;00m \u001b[39mValueError\u001b[39;00m(\u001b[39m\"\u001b[39m\u001b[39mA lista nao pode possuir mais de 4 notas\u001b[39m\u001b[39m\"\u001b[39m)\n",
      "\u001b[1;31mTypeError\u001b[0m: unsupported operand type(s) for +: 'int' and 'str'"
     ]
    }
   ],
   "source": [
    "notas = [6, 7, 8 , 9, 8, \"8\"]\n",
    "resultado = media(notas)\n",
    "resultado"
   ]
  },
  {
   "cell_type": "code",
   "execution_count": 32,
   "metadata": {},
   "outputs": [
    {
     "name": "stdout",
     "output_type": "stream",
     "text": [
      "7.25\n",
      "A consulta foi encerrada\n"
     ]
    }
   ],
   "source": [
    "\n",
    "try:\n",
    "    notas = [6, 7, 8 , 8]\n",
    "    resultado = media(notas)\n",
    "except TypeError:\n",
    "    print(\"Não foi possivel calcular a media do(a) estudante. Só aceitos valores numericos\")\n",
    "except ValueError as e:\n",
    "    print(e)\n",
    "else:\n",
    "    print(resultado)\n",
    "finally:\n",
    "    print(\"A consulta foi encerrada\")"
   ]
  },
  {
   "cell_type": "code",
   "execution_count": 34,
   "metadata": {},
   "outputs": [
    {
     "name": "stdout",
     "output_type": "stream",
     "text": [
      "A lista nao pode possuir mais de 4 notas\n",
      "A consulta foi encerrada\n"
     ]
    }
   ],
   "source": [
    "try:\n",
    "    notas = [6, 7, 8 , 9, 8]\n",
    "    resultado = media(notas)\n",
    "except TypeError:\n",
    "    print(\"Não foi possivel calcular a media do(a) estudante. Só aceitos valores numericos\")\n",
    "except ValueError as e:\n",
    "    print(e)\n",
    "else:\n",
    "    print(resultado)\n",
    "finally:\n",
    "    print(\"A consulta foi encerrada\")"
   ]
  },
  {
   "cell_type": "code",
   "execution_count": 35,
   "metadata": {},
   "outputs": [
    {
     "name": "stdout",
     "output_type": "stream",
     "text": [
      "Não foi possivel calcular a media do(a) estudante. Só aceitos valores numericos\n",
      "A consulta foi encerrada\n"
     ]
    }
   ],
   "source": [
    "try:\n",
    "    notas = [6, 7, 8 ,\"9\"]\n",
    "    resultado = media(notas)\n",
    "except TypeError:\n",
    "    print(\"Não foi possivel calcular a media do(a) estudante. Só aceitos valores numericos\")\n",
    "except ValueError as e:\n",
    "    print(e)\n",
    "else:\n",
    "    print(resultado)\n",
    "finally:\n",
    "    print(\"A consulta foi encerrada\")"
   ]
  }
 ],
 "metadata": {
  "kernelspec": {
   "display_name": "Python 3",
   "language": "python",
   "name": "python3"
  },
  "language_info": {
   "codemirror_mode": {
    "name": "ipython",
    "version": 3
   },
   "file_extension": ".py",
   "mimetype": "text/x-python",
   "name": "python",
   "nbconvert_exporter": "python",
   "pygments_lexer": "ipython3",
   "version": "3.11.3"
  },
  "orig_nbformat": 4
 },
 "nbformat": 4,
 "nbformat_minor": 2
}
