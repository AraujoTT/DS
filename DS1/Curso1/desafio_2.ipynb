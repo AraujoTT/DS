{
 "cells": [
  {
   "cell_type": "code",
   "execution_count": 1,
   "metadata": {},
   "outputs": [],
   "source": [
    "# Desafio 1"
   ]
  },
  {
   "cell_type": "code",
   "execution_count": 3,
   "metadata": {},
   "outputs": [
    {
     "name": "stdout",
     "output_type": "stream",
     "text": [
      "<class 'ZeroDivisionError'> Erro float division by zero\n"
     ]
    }
   ],
   "source": [
    "try: \n",
    "    num1 = float(input())\n",
    "    num2 = float(input())\n",
    "    divisao = num1 / num2\n",
    "except Exception as e:\n",
    "    print(type(e), f'Erro {e}')\n"
   ]
  },
  {
   "cell_type": "code",
   "execution_count": 11,
   "metadata": {},
   "outputs": [],
   "source": [
    "# Desafio 2"
   ]
  },
  {
   "cell_type": "code",
   "execution_count": 10,
   "metadata": {},
   "outputs": [
    {
     "name": "stdout",
     "output_type": "stream",
     "text": [
      "23\n",
      "Procura finalizada\n"
     ]
    }
   ],
   "source": [
    "idades = {'Júlia': 16, 'Carol': 23, 'Alberto': 19, 'Roberta': 17}\n",
    "try:\n",
    "    chave = str(input(\"Digite o nome:\"))\n",
    "    procura = idades[chave]\n",
    "except KeyError:\n",
    "    print(\"Nome nao encontrado\")\n",
    "else:\n",
    "    print(procura)\n",
    "finally:\n",
    "    print(\"Procura finalizada\")\n",
    "\n"
   ]
  },
  {
   "cell_type": "code",
   "execution_count": 13,
   "metadata": {},
   "outputs": [],
   "source": [
    "# Desafio 3"
   ]
  },
  {
   "cell_type": "code",
   "execution_count": 21,
   "metadata": {},
   "outputs": [
    {
     "name": "stdout",
     "output_type": "stream",
     "text": [
      "Operção finalizada\n"
     ]
    },
    {
     "data": {
      "text/plain": [
       "[1.0, 3.0, 4.0, 5.0, 5.3]"
      ]
     },
     "execution_count": 21,
     "metadata": {},
     "output_type": "execute_result"
    }
   ],
   "source": [
    "def converte(lista):\n",
    "    try:\n",
    "        lista_con = [float(item) for item in lista]\n",
    "    except Exception as e:\n",
    "        print(type(e), f\"Erro {e}\")\n",
    "    else:\n",
    "        return lista_con\n",
    "    finally:\n",
    "        print(\"Operção finalizada\")\n",
    "\n",
    "lista=[1, 3, 4, 5, 5.3]\n",
    "funcao = converte(lista)\n",
    "funcao\n",
    "\n"
   ]
  },
  {
   "cell_type": "code",
   "execution_count": 24,
   "metadata": {},
   "outputs": [
    {
     "name": "stdout",
     "output_type": "stream",
     "text": [
      "Fim da execução da função\n"
     ]
    },
    {
     "data": {
      "text/plain": [
       "[1.0, 3.0, 4.0, 5.0, 5.3]"
      ]
     },
     "execution_count": 24,
     "metadata": {},
     "output_type": "execute_result"
    }
   ],
   "source": [
    "def converte_lista(lista):\n",
    "    try:\n",
    "        nova_lista = [float(elemento) for elemento in lista]\n",
    "    except Exception as e:\n",
    "        print(type(e), f'Erro: {e}')\n",
    "    else:\n",
    "        return nova_lista\n",
    "    finally:\n",
    "        print('Fim da execução da função')\n",
    "\n",
    "lista=[1, 3, 4, 5, 5.3]\n",
    "funcao = converte_lista(lista)\n",
    "funcao"
   ]
  },
  {
   "cell_type": "code",
   "execution_count": 25,
   "metadata": {},
   "outputs": [],
   "source": [
    "# Desfio 4"
   ]
  },
  {
   "cell_type": "code",
   "execution_count": 28,
   "metadata": {},
   "outputs": [
    {
     "name": "stdout",
     "output_type": "stream",
     "text": [
      "<class 'TypeError'> Erro unsupported operand type(s) for +: 'int' and 'str'\n",
      "operação finalizada\n"
     ]
    }
   ],
   "source": [
    "def duas_listas(lista1, lista2):\n",
    "    \n",
    "    try:\n",
    "        if len(lista1) == len(lista2):\n",
    "            lista_lista= [(lista1[i], lista2[i], lista1[i]+lista2[i]) for i in range(len(lista1))]\n",
    "        else:\n",
    "            raise IndexError(\"A Quantidade de elementos da lista são diferentes\")\n",
    "    except Exception as e:\n",
    "        print(type(e), f'Erro {e}')\n",
    "    else:\n",
    "        print(lista_lista)\n",
    "    finally:\n",
    "        print(\"operação finalizada\")\n",
    "\n",
    "lista1 = [4,6,7,9,'A']\n",
    "lista2 = [-4,'E',8,7,9]\n",
    "\n",
    "duas_listas(lista1, lista2)\n",
    "\n"
   ]
  }
 ],
 "metadata": {
  "kernelspec": {
   "display_name": "Python 3",
   "language": "python",
   "name": "python3"
  },
  "language_info": {
   "codemirror_mode": {
    "name": "ipython",
    "version": 3
   },
   "file_extension": ".py",
   "mimetype": "text/x-python",
   "name": "python",
   "nbconvert_exporter": "python",
   "pygments_lexer": "ipython3",
   "version": "3.11.3"
  },
  "orig_nbformat": 4
 },
 "nbformat": 4,
 "nbformat_minor": 2
}
