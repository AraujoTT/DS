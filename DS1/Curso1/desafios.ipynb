{
 "cells": [
  {
   "cell_type": "code",
   "execution_count": 1,
   "metadata": {},
   "outputs": [],
   "source": [
    "# Desafio 1"
   ]
  },
  {
   "cell_type": "code",
   "execution_count": 2,
   "metadata": {},
   "outputs": [],
   "source": [
    "lista_de_listas = [[4,6,5,9], [1,0,7,2], [3,4,1,8]]\n"
   ]
  },
  {
   "cell_type": "code",
   "execution_count": 3,
   "metadata": {},
   "outputs": [
    {
     "data": {
      "text/plain": [
       "[24, 10, 16]"
      ]
     },
     "execution_count": 3,
     "metadata": {},
     "output_type": "execute_result"
    }
   ],
   "source": [
    "soma = [sum(lista_de_listas[i]) for i in range(len(lista_de_listas))]\n",
    "soma"
   ]
  },
  {
   "cell_type": "code",
   "execution_count": 4,
   "metadata": {},
   "outputs": [],
   "source": [
    "# Desafio 2"
   ]
  },
  {
   "cell_type": "code",
   "execution_count": 5,
   "metadata": {},
   "outputs": [],
   "source": [
    "lista_de_tuplas = [('Pedro', 1.74, 81), ('Júlia', 1.65, 67), ('Otávio', 1.81, 83)]\n"
   ]
  },
  {
   "cell_type": "code",
   "execution_count": 20,
   "metadata": {},
   "outputs": [
    {
     "data": {
      "text/plain": [
       "[81, 67, 83]"
      ]
     },
     "execution_count": 20,
     "metadata": {},
     "output_type": "execute_result"
    }
   ],
   "source": [
    "resposta =[lista[2] for lista in lista_de_tuplas]\n",
    "resposta"
   ]
  },
  {
   "cell_type": "code",
   "execution_count": 7,
   "metadata": {},
   "outputs": [],
   "source": [
    "# Desafio 3"
   ]
  },
  {
   "cell_type": "code",
   "execution_count": 8,
   "metadata": {},
   "outputs": [],
   "source": [
    "lista = ['Pedro', 'Júlia', 'Otávio', 'Eduardo']"
   ]
  },
  {
   "cell_type": "code",
   "execution_count": 9,
   "metadata": {},
   "outputs": [
    {
     "data": {
      "text/plain": [
       "[(0, 'Pedro'), (1, 'Júlia'), (2, 'Otávio'), (3, 'Eduardo')]"
      ]
     },
     "execution_count": 9,
     "metadata": {},
     "output_type": "execute_result"
    }
   ],
   "source": [
    "lista_index = []\n",
    "resposta_2 = [lista_index.append((i , lista[i])) for i in range(len(lista))]\n",
    "lista_index"
   ]
  },
  {
   "cell_type": "code",
   "execution_count": 10,
   "metadata": {},
   "outputs": [],
   "source": [
    "# Desafio 4\n"
   ]
  },
  {
   "cell_type": "code",
   "execution_count": 11,
   "metadata": {},
   "outputs": [],
   "source": [
    "aluguel = [('Apartamento', 1700), ('Apartamento', 1400), ('Casa', 2150), ('Apartamento', 1900), ('Casa', 1100)]"
   ]
  },
  {
   "cell_type": "code",
   "execution_count": 12,
   "metadata": {},
   "outputs": [
    {
     "data": {
      "text/plain": [
       "[1700, 1400, 1900]"
      ]
     },
     "execution_count": 12,
     "metadata": {},
     "output_type": "execute_result"
    }
   ],
   "source": [
    "valor = [ape[1] for ape in aluguel if ape[0] == \"Apartamento\"]\n",
    "valor"
   ]
  },
  {
   "cell_type": "code",
   "execution_count": 13,
   "metadata": {},
   "outputs": [],
   "source": [
    "meses = ['Jan', 'Fev', 'Mar', 'Abr', 'Mai', 'Jun', 'Jul', 'Ago', 'Set', 'Out', 'Nov', 'Dez']\n",
    "despesa = [860, 490, 1010, 780, 900, 630, 590, 770, 620, 560, 840, 360]"
   ]
  },
  {
   "cell_type": "code",
   "execution_count": 14,
   "metadata": {},
   "outputs": [
    {
     "data": {
      "text/plain": [
       "[['Jan',\n",
       "  'Fev',\n",
       "  'Mar',\n",
       "  'Abr',\n",
       "  'Mai',\n",
       "  'Jun',\n",
       "  'Jul',\n",
       "  'Ago',\n",
       "  'Set',\n",
       "  'Out',\n",
       "  'Nov',\n",
       "  'Dez'],\n",
       " [860, 490, 1010, 780, 900, 630, 590, 770, 620, 560, 840, 360]]"
      ]
     },
     "execution_count": 14,
     "metadata": {},
     "output_type": "execute_result"
    }
   ],
   "source": [
    "gastos = [meses, despesa]\n",
    "gastos"
   ]
  },
  {
   "cell_type": "code",
   "execution_count": 15,
   "metadata": {},
   "outputs": [],
   "source": [
    "colunas = [\"meses\" , \"despesa\"]"
   ]
  },
  {
   "cell_type": "code",
   "execution_count": 16,
   "metadata": {},
   "outputs": [
    {
     "data": {
      "text/plain": [
       "{'meses': ['Jan',\n",
       "  'Fev',\n",
       "  'Mar',\n",
       "  'Abr',\n",
       "  'Mai',\n",
       "  'Jun',\n",
       "  'Jul',\n",
       "  'Ago',\n",
       "  'Set',\n",
       "  'Out',\n",
       "  'Nov',\n",
       "  'Dez'],\n",
       " 'despesa': [860, 490, 1010, 780, 900, 630, 590, 770, 620, 560, 840, 360]}"
      ]
     },
     "execution_count": 16,
     "metadata": {},
     "output_type": "execute_result"
    }
   ],
   "source": [
    "cadastro = {colunas[i]: gastos[i] for i in range(len(colunas))}\n",
    "cadastro"
   ]
  },
  {
   "cell_type": "code",
   "execution_count": 21,
   "metadata": {},
   "outputs": [],
   "source": [
    "# Desafio 6"
   ]
  },
  {
   "cell_type": "code",
   "execution_count": 23,
   "metadata": {},
   "outputs": [],
   "source": [
    "vendas = [('2023', 4093), ('2021', 4320), ('2021', 5959), ('2022', 8883), ('2023', 9859), ('2022', 5141), ('2022', 7688), ('2022', 9544), ('2023', 4794), ('2021', 7178), ('2022', 3030), ('2021', 7471), ('2022', 4226), ('2022', 8190), ('2021', 9680), ('2022', 5616)]\n"
   ]
  },
  {
   "cell_type": "code",
   "execution_count": 28,
   "metadata": {},
   "outputs": [
    {
     "data": {
      "text/plain": [
       "[8883, 7688, 9544, 8190]"
      ]
     },
     "execution_count": 28,
     "metadata": {},
     "output_type": "execute_result"
    }
   ],
   "source": [
    "filtro = [venda[1] for venda in vendas if venda[0] == '2022' and venda[1] >= 6000]\n",
    "filtro"
   ]
  },
  {
   "cell_type": "code",
   "execution_count": 29,
   "metadata": {},
   "outputs": [],
   "source": [
    "# Desafio 7"
   ]
  },
  {
   "cell_type": "code",
   "execution_count": 30,
   "metadata": {},
   "outputs": [],
   "source": [
    "    glicemia = [129, 82, 60, 97, 101, 65, 62, 167, 87, 53, 58, 92, 66, 120, 109, 62, 86, 96, 103, 88, 155, 52, 89, 73]\n"
   ]
  },
  {
   "cell_type": "code",
   "execution_count": 36,
   "metadata": {},
   "outputs": [
    {
     "data": {
      "text/plain": [
       "['Diabetes',\n",
       " 'Normal',\n",
       " 'Hipoglicemia',\n",
       " 'Normal',\n",
       " 'Alterado',\n",
       " 'Hipoglicemia',\n",
       " 'Hipoglicemia',\n",
       " 'Diabetes',\n",
       " 'Normal',\n",
       " 'Hipoglicemia',\n",
       " 'Hipoglicemia',\n",
       " 'Normal',\n",
       " 'Hipoglicemia',\n",
       " 'Alterado',\n",
       " 'Alterado',\n",
       " 'Hipoglicemia',\n",
       " 'Normal',\n",
       " 'Normal',\n",
       " 'Alterado',\n",
       " 'Normal',\n",
       " 'Diabetes',\n",
       " 'Hipoglicemia',\n",
       " 'Normal',\n",
       " 'Normal']"
      ]
     },
     "execution_count": 36,
     "metadata": {},
     "output_type": "execute_result"
    }
   ],
   "source": [
    "analise = [\"Hipoglicemia\" if valor <= 70 else \"Normal\" if valor > 70 and valor < 99 else \"Alterado\" if valor >100 and valor<125 else \"Diabetes\" for valor in glicemia ]\n",
    "analise"
   ]
  },
  {
   "cell_type": "code",
   "execution_count": 40,
   "metadata": {},
   "outputs": [
    {
     "data": {
      "text/plain": [
       "{'glicemia': [129,\n",
       "  82,\n",
       "  60,\n",
       "  97,\n",
       "  101,\n",
       "  65,\n",
       "  62,\n",
       "  167,\n",
       "  87,\n",
       "  53,\n",
       "  58,\n",
       "  92,\n",
       "  66,\n",
       "  120,\n",
       "  109,\n",
       "  62,\n",
       "  86,\n",
       "  96,\n",
       "  103,\n",
       "  88,\n",
       "  155,\n",
       "  52,\n",
       "  89,\n",
       "  73],\n",
       " 'analise': ['Diabetes',\n",
       "  'Normal',\n",
       "  'Hipoglicemia',\n",
       "  'Normal',\n",
       "  'Alterado',\n",
       "  'Hipoglicemia',\n",
       "  'Hipoglicemia',\n",
       "  'Diabetes',\n",
       "  'Normal',\n",
       "  'Hipoglicemia',\n",
       "  'Hipoglicemia',\n",
       "  'Normal',\n",
       "  'Hipoglicemia',\n",
       "  'Alterado',\n",
       "  'Alterado',\n",
       "  'Hipoglicemia',\n",
       "  'Normal',\n",
       "  'Normal',\n",
       "  'Alterado',\n",
       "  'Normal',\n",
       "  'Diabetes',\n",
       "  'Hipoglicemia',\n",
       "  'Normal',\n",
       "  'Normal']}"
      ]
     },
     "execution_count": 40,
     "metadata": {},
     "output_type": "execute_result"
    }
   ],
   "source": [
    "tabela = [glicemia, analise]\n",
    "colunas = [\"glicemia\", \"analise\"]\n",
    "tabela_valores = {colunas[i]: tabela[i] for i in range(len(colunas))}\n",
    "tabela_valores"
   ]
  },
  {
   "cell_type": "code",
   "execution_count": 41,
   "metadata": {},
   "outputs": [],
   "source": [
    "# Desafio 8"
   ]
  },
  {
   "cell_type": "code",
   "execution_count": 42,
   "metadata": {},
   "outputs": [],
   "source": [
    "id = [0, 1, 2, 3, 4, 5, 6, 7, 8, 9]\n",
    "quantidade = [15, 12, 1, 15, 2, 11, 2, 12, 2, 4]\n",
    "preco = [93.0, 102.0, 18.0, 41.0, 122.0, 14.0, 71.0, 48.0, 14.0, 144.0]\n"
   ]
  },
  {
   "cell_type": "code",
   "execution_count": 46,
   "metadata": {},
   "outputs": [
    {
     "data": {
      "text/plain": [
       "{'Id': [0, 1, 2, 3, 4, 5, 6, 7, 8, 9],\n",
       " 'Quantidade': [15, 12, 1, 15, 2, 11, 2, 12, 2, 4],\n",
       " 'Preco': [93.0, 102.0, 18.0, 41.0, 122.0, 14.0, 71.0, 48.0, 14.0, 144.0],\n",
       " 'Total': [1395.0,\n",
       "  1224.0,\n",
       "  18.0,\n",
       "  615.0,\n",
       "  244.0,\n",
       "  154.0,\n",
       "  142.0,\n",
       "  576.0,\n",
       "  28.0,\n",
       "  576.0]}"
      ]
     },
     "execution_count": 46,
     "metadata": {},
     "output_type": "execute_result"
    }
   ],
   "source": [
    "total = [quantidade[i] * preco[i] for i in range(len(quantidade))]\n",
    "tabela_e_commerce = [id, quantidade, preco, total]\n",
    "cabecalho = [\"Id\", \"Quantidade\", \"Preco\", \"Total\"]\n",
    "\n",
    "tablea_final = {cabecalho[i]: tabela_e_commerce[i] for i in range(len(cabecalho))}\n",
    "tablea_final"
   ]
  },
  {
   "cell_type": "code",
   "execution_count": 48,
   "metadata": {},
   "outputs": [
    {
     "name": "stdout",
     "output_type": "stream",
     "text": [
      "[['RJ', 'RJ'], ['SP', 'SP', 'SP', 'SP', 'SP', 'SP', 'SP', 'SP'], ['MG', 'MG', 'MG', 'MG', 'MG', 'MG', 'MG'], ['ES', 'ES', 'ES', 'ES', 'ES', 'ES']]\n",
      "{'RJ': 2, 'SP': 8, 'MG': 7, 'ES': 6}\n"
     ]
    }
   ],
   "source": [
    "estados = ['SP', 'ES', 'MG', 'MG', 'SP', 'MG', 'ES', 'ES', 'ES', 'SP', 'SP', 'MG', 'ES', 'SP', 'RJ', 'MG', 'RJ', 'SP', 'MG', 'SP', 'ES', 'SP', 'MG']\n",
    "estados_unicos = list(set(estados))\n",
    "\n",
    "# Criando uma lista de listas com valores repetidos de cada estado\n",
    "lista_de_listas = []\n",
    "for estado in estados_unicos:\n",
    "    lista = [uf for uf in estados if uf == estado]\n",
    "    lista_de_listas.append(lista)\n",
    "print(lista_de_listas)\n",
    "\n",
    "contagem_valores = {estados_unicos[i]: len(lista_de_listas[i]) for i in range(len(estados_unicos))}\n",
    "print(contagem_valores)\n"
   ]
  },
  {
   "cell_type": "code",
   "execution_count": 50,
   "metadata": {},
   "outputs": [
    {
     "name": "stdout",
     "output_type": "stream",
     "text": [
      "['RJ', 'SP', 'MG', 'ES']\n",
      "[[13, 9], [16, 10, 7, 11, 9, 12, 7, 10], [9, 6, 4, 8, 5, 10, 12], [8, 9, 7, 12, 8, 14]]\n",
      "{'RJ': [13, 9], 'SP': [16, 10, 7, 11, 9, 12, 7, 10], 'MG': [9, 6, 4, 8, 5, 10, 12], 'ES': [8, 9, 7, 12, 8, 14]}\n",
      "{'RJ': 22, 'SP': 82, 'MG': 54, 'ES': 58}\n"
     ]
    }
   ],
   "source": [
    "funcionarios = [('SP', 16), ('ES', 8), ('MG', 9), ('MG', 6), ('SP', 10), ('MG', 4), ('ES',9), ('ES', 7), ('ES', 12), ('SP', 7), ('SP', 11), ('MG',8), ('ES',8), ('SP',9), ('RJ', 13), ('MG', 5), ('RJ', 9), ('SP', 12), ('MG', 10), ('SP', 7), ('ES', 14), ('SP', 10), ('MG', 12)]\n",
    "estados_unicos = list(set([tupla[0] for tupla in funcionarios]))\n",
    "print(estados_unicos)\n",
    "\n",
    "lista_de_listas = []\n",
    "for estado in estados_unicos:\n",
    "    lista = [tupla[1] for tupla in funcionarios if tupla[0] == estado]\n",
    "    lista_de_listas.append(lista)\n",
    "print(lista_de_listas)\n",
    "\n",
    "# Criando um dicionário com dados agrupados de funcionário por estado\n",
    "agrupamento_por_estado = {estados_unicos[i]: lista_de_listas[i] for i in range(len(estados_unicos))}\n",
    "print(agrupamento_por_estado)\n",
    "\n",
    "# Criando um dicionário com a soma de funcionários por estado\n",
    "soma_por_estado = {estados_unicos[i]: sum(lista_de_listas[i]) for i in range(len(estados_unicos))}\n",
    "print(soma_por_estado)\n"
   ]
  },
  {
   "cell_type": "code",
   "execution_count": null,
   "metadata": {},
   "outputs": [],
   "source": []
  }
 ],
 "metadata": {
  "kernelspec": {
   "display_name": "Python 3",
   "language": "python",
   "name": "python3"
  },
  "language_info": {
   "codemirror_mode": {
    "name": "ipython",
    "version": 3
   },
   "file_extension": ".py",
   "mimetype": "text/x-python",
   "name": "python",
   "nbconvert_exporter": "python",
   "pygments_lexer": "ipython3",
   "version": "3.11.3"
  },
  "orig_nbformat": 4
 },
 "nbformat": 4,
 "nbformat_minor": 2
}
