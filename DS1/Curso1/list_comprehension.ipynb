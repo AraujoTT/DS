{
 "cells": [
  {
   "cell_type": "code",
   "execution_count": 2,
   "metadata": {},
   "outputs": [],
   "source": [
    "notas = [[8.0, 9.0, 10.0], [9.0, 7.0, 6.0], [3.4, 7.0, 7.0], [5.5, 6.6, 8.0], [6.0, 10.0, 9.5]]\n"
   ]
  },
  {
   "cell_type": "code",
   "execution_count": 3,
   "metadata": {},
   "outputs": [],
   "source": [
    "def media(lista: list=[0]) -> float:\n",
    "\n",
    "    calculo =sum(lista) / len(lista)\n",
    "    return calculo"
   ]
  },
  {
   "cell_type": "code",
   "execution_count": 6,
   "metadata": {},
   "outputs": [
    {
     "data": {
      "text/plain": [
       "[9.0, 7.3, 5.8, 6.7, 8.5]"
      ]
     },
     "execution_count": 6,
     "metadata": {},
     "output_type": "execute_result"
    }
   ],
   "source": [
    "medias = [round(media(nota),1) for nota in notas]\n",
    "medias"
   ]
  },
  {
   "cell_type": "code",
   "execution_count": 8,
   "metadata": {},
   "outputs": [],
   "source": [
    "nomes = [('João', 'J720'), ('Maria', 'M205'), ('José', 'J371'), ('Cláudia', 'C546'), ('Ana', 'A347')]\n",
    "medias = [9.0, 7.3, 5.8, 6.7, 8.5]\n"
   ]
  },
  {
   "cell_type": "code",
   "execution_count": 9,
   "metadata": {},
   "outputs": [
    {
     "data": {
      "text/plain": [
       "['João', 'Maria', 'José', 'Cláudia', 'Ana']"
      ]
     },
     "execution_count": 9,
     "metadata": {},
     "output_type": "execute_result"
    }
   ],
   "source": [
    "nomes= [nome[0] for nome in nomes]\n",
    "nomes"
   ]
  },
  {
   "cell_type": "code",
   "execution_count": 11,
   "metadata": {},
   "outputs": [
    {
     "data": {
      "text/plain": [
       "[('João', 9.0), ('Maria', 7.3), ('José', 5.8), ('Cláudia', 6.7), ('Ana', 8.5)]"
      ]
     },
     "execution_count": 11,
     "metadata": {},
     "output_type": "execute_result"
    }
   ],
   "source": [
    "estudantes = list(zip(nomes, medias))\n",
    "estudantes"
   ]
  },
  {
   "cell_type": "code",
   "execution_count": 20,
   "metadata": {},
   "outputs": [
    {
     "data": {
      "text/plain": [
       "[['João', 9.0], ['Ana', 8.5]]"
      ]
     },
     "execution_count": 20,
     "metadata": {},
     "output_type": "execute_result"
    }
   ],
   "source": [
    "candidatos = [[estudante[0], estudante[1]] for estudante in estudantes if estudante[1] >=8]\n",
    "candidatos"
   ]
  },
  {
   "cell_type": "code",
   "execution_count": 22,
   "metadata": {},
   "outputs": [],
   "source": [
    "nomes = [('João', 'J720'), ('Maria', 'M205'), ('José', 'J371'), ('Cláudia', 'C546'), ('Ana', 'A347')]\n",
    "notas = [[8.0, 9.0, 10.0], [9.0, 7.0, 6.0], [3.4, 7.0, 7.0], [5.5, 6.6, 8.0], [6.0, 10.0, 9.5]]\n",
    "medias = [9.0, 7.3, 5.8, 6.7, 8.5]\n"
   ]
  },
  {
   "cell_type": "code",
   "execution_count": 23,
   "metadata": {},
   "outputs": [
    {
     "data": {
      "text/plain": [
       "['Aprovado(a)', 'Aprovado(a)', 'Reprovado(a)', 'Aprovado(a)', 'Aprovado(a)']"
      ]
     },
     "execution_count": 23,
     "metadata": {},
     "output_type": "execute_result"
    }
   ],
   "source": [
    "situacao = [\"Aprovado(a)\" if media >= 6 else \"Reprovado(a)\" for media in medias]\n",
    "situacao"
   ]
  },
  {
   "cell_type": "code",
   "execution_count": 25,
   "metadata": {},
   "outputs": [
    {
     "data": {
      "text/plain": [
       "[[('João', 'J720'),\n",
       "  ('Maria', 'M205'),\n",
       "  ('José', 'J371'),\n",
       "  ('Cláudia', 'C546'),\n",
       "  ('Ana', 'A347')],\n",
       " [[8.0, 9.0, 10.0],\n",
       "  [9.0, 7.0, 6.0],\n",
       "  [3.4, 7.0, 7.0],\n",
       "  [5.5, 6.6, 8.0],\n",
       "  [6.0, 10.0, 9.5]],\n",
       " [9.0, 7.3, 5.8, 6.7, 8.5],\n",
       " ['Aprovado(a)', 'Aprovado(a)', 'Reprovado(a)', 'Aprovado(a)', 'Aprovado(a)']]"
      ]
     },
     "execution_count": 25,
     "metadata": {},
     "output_type": "execute_result"
    }
   ],
   "source": [
    "cadastro = [x for x in [nomes, notas, medias, situacao]]\n",
    "cadastro"
   ]
  },
  {
   "cell_type": "code",
   "execution_count": 27,
   "metadata": {},
   "outputs": [
    {
     "data": {
      "text/plain": [
       "[[('João', 'J720'),\n",
       "  ('Maria', 'M205'),\n",
       "  ('José', 'J371'),\n",
       "  ('Cláudia', 'C546'),\n",
       "  ('Ana', 'A347')],\n",
       " [[8.0, 9.0, 10.0],\n",
       "  [9.0, 7.0, 6.0],\n",
       "  [3.4, 7.0, 7.0],\n",
       "  [5.5, 6.6, 8.0],\n",
       "  [6.0, 10.0, 9.5]],\n",
       " [9.0, 7.3, 5.8, 6.7, 8.5],\n",
       " ['Aprovado(a)', 'Aprovado(a)', 'Reprovado(a)', 'Aprovado(a)', 'Aprovado(a)']]"
      ]
     },
     "execution_count": 27,
     "metadata": {},
     "output_type": "execute_result"
    }
   ],
   "source": [
    "lista_completa = [nomes, notas, medias, situacao]\n",
    "lista_completa"
   ]
  },
  {
   "cell_type": "code",
   "execution_count": 32,
   "metadata": {},
   "outputs": [
    {
     "data": {
      "text/plain": [
       "{'Notas': [[8.0, 9.0, 10.0],\n",
       "  [9.0, 7.0, 6.0],\n",
       "  [3.4, 7.0, 7.0],\n",
       "  [5.5, 6.6, 8.0],\n",
       "  [6.0, 10.0, 9.5]],\n",
       " 'Media_Final': [9.0, 7.3, 5.8, 6.7, 8.5],\n",
       " 'Situacao': ['Aprovado(a)',\n",
       "  'Aprovado(a)',\n",
       "  'Reprovado(a)',\n",
       "  'Aprovado(a)',\n",
       "  'Aprovado(a)']}"
      ]
     },
     "execution_count": 32,
     "metadata": {},
     "output_type": "execute_result"
    }
   ],
   "source": [
    "colunas = [\"Notas\", \"Media_Final\", \"Situacao\"]\n",
    "\n",
    "cadastro = {colunas[i]: lista_completa[i+1] for i in range(len(colunas))}\n",
    "cadastro"
   ]
  },
  {
   "cell_type": "code",
   "execution_count": 35,
   "metadata": {},
   "outputs": [
    {
     "data": {
      "text/plain": [
       "{'Notas': [[8.0, 9.0, 10.0],\n",
       "  [9.0, 7.0, 6.0],\n",
       "  [3.4, 7.0, 7.0],\n",
       "  [5.5, 6.6, 8.0],\n",
       "  [6.0, 10.0, 9.5]],\n",
       " 'Media_Final': [9.0, 7.3, 5.8, 6.7, 8.5],\n",
       " 'Situacao': ['Aprovado(a)',\n",
       "  'Aprovado(a)',\n",
       "  'Reprovado(a)',\n",
       "  'Aprovado(a)',\n",
       "  'Aprovado(a)'],\n",
       " 'Estudante': ['João', 'Maria', 'José', 'Cláudia', 'Ana']}"
      ]
     },
     "execution_count": 35,
     "metadata": {},
     "output_type": "execute_result"
    }
   ],
   "source": [
    "cadastro[\"Estudante\"] = [lista_completa[0][i][0] for i in range(len(lista_completa[0]))]\n",
    "cadastro"
   ]
  },
  {
   "cell_type": "code",
   "execution_count": 40,
   "metadata": {},
   "outputs": [
    {
     "ename": "TypeError",
     "evalue": "'builtin_function_or_method' object is not iterable",
     "output_type": "error",
     "traceback": [
      "\u001b[1;31m---------------------------------------------------------------------------\u001b[0m",
      "\u001b[1;31mTypeError\u001b[0m                                 Traceback (most recent call last)",
      "\u001b[1;32mc:\\Users\\luist\\Desktop\\Spacex\\py\\DS\\Curso1\\list_comprehension.ipynb Cell 14\u001b[0m line \u001b[0;36m1\n\u001b[1;32m----> <a href='vscode-notebook-cell:/c%3A/Users/luist/Desktop/Spacex/py/DS/Curso1/list_comprehension.ipynb#X16sZmlsZQ%3D%3D?line=0'>1</a>\u001b[0m \u001b[39mlist\u001b[39;49m(cadastro\u001b[39m.\u001b[39;49mvalues)\n",
      "\u001b[1;31mTypeError\u001b[0m: 'builtin_function_or_method' object is not iterable"
     ]
    }
   ],
   "source": []
  }
 ],
 "metadata": {
  "kernelspec": {
   "display_name": "Python 3",
   "language": "python",
   "name": "python3"
  },
  "language_info": {
   "codemirror_mode": {
    "name": "ipython",
    "version": 3
   },
   "file_extension": ".py",
   "mimetype": "text/x-python",
   "name": "python",
   "nbconvert_exporter": "python",
   "pygments_lexer": "ipython3",
   "version": "3.11.3"
  },
  "orig_nbformat": 4
 },
 "nbformat": 4,
 "nbformat_minor": 2
}
