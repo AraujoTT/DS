{
 "cells": [
  {
   "cell_type": "code",
   "execution_count": 1,
   "metadata": {},
   "outputs": [],
   "source": [
    "from scipy.special import comb\n",
    "from scipy.stats import binom "
   ]
  },
  {
   "cell_type": "code",
   "execution_count": 2,
   "metadata": {},
   "outputs": [
    {
     "data": {
      "text/plain": [
       "0.375"
      ]
     },
     "execution_count": 2,
     "metadata": {},
     "output_type": "execute_result"
    }
   ],
   "source": [
    "# moeda lançada 4 vezes para cima probabilidade de sair coroa 2 vezes\n",
    "n = 4\n",
    "prob_sucesso = 2\n",
    "p = (1 / prob_sucesso)\n",
    "k = 2\n",
    "binom.pmf(k, n, p)"
   ]
  },
  {
   "cell_type": "code",
   "execution_count": 3,
   "metadata": {},
   "outputs": [
    {
     "data": {
      "text/plain": [
       "0.2247732021287407"
      ]
     },
     "execution_count": 3,
     "metadata": {},
     "output_type": "execute_result"
    }
   ],
   "source": [
    "# probabilide de cair numero 5 pelo menos 10 vezes jogando os dados \n",
    "n = 10 \n",
    "p = 1 / 6\n",
    "k = 3\n",
    "binom.sf(2, n, p)"
   ]
  },
  {
   "cell_type": "code",
   "execution_count": 4,
   "metadata": {},
   "outputs": [
    {
     "data": {
      "text/plain": [
       "5.662799999999996"
      ]
     },
     "execution_count": 4,
     "metadata": {},
     "output_type": "execute_result"
    }
   ],
   "source": [
    "# Suponha que a probabilidade de um casal ter filhos com olhos azuis seja de 22%.\n",
    "# Em 50 famílias, com 3 crianças cada uma, quantas podemos esperar que tenham\n",
    "# dois filhos com olhos azuis?\n",
    "p = 0.22\n",
    "n = 3\n",
    "k = 2\n",
    "probabilidade = binom.pmf(k, n, p)\n",
    "resultado = probabilidade * 50\n",
    "resultado"
   ]
  },
  {
   "cell_type": "code",
   "execution_count": 5,
   "metadata": {},
   "outputs": [
    {
     "data": {
      "text/plain": [
       "0.04458764910826764"
      ]
     },
     "execution_count": 5,
     "metadata": {},
     "output_type": "execute_result"
    }
   ],
   "source": [
    "from scipy.stats import poisson\n",
    "# O número médio de clientes que entram em uma padaria por hora é igual a 20.\n",
    "# Obtenha a probabilidade de, na próxima hora, entrarem exatamente 25 clientes.\n",
    "mi = 20\n",
    "k = 25\n",
    "poisson.pmf(k, mi)\n"
   ]
  },
  {
   "cell_type": "code",
   "execution_count": 6,
   "metadata": {},
   "outputs": [
    {
     "name": "stdout",
     "output_type": "stream",
     "text": [
      "0.6826894921370859\n",
      "0.02271846070634609\n"
     ]
    }
   ],
   "source": [
    "from scipy.stats import norm\n",
    "# O faturamento diário de um motorista de aplicativo segue uma distribuição\n",
    "# aproximadamente normal, com média R$ 300,00 e desvio padrão igual a R$ 50,00.\n",
    "#  Obtenha as probabilidades de que, em um dia aleatório, o motorista ganhe:\n",
    "# 1) Entre R$ 250,00 e R$ 350,00\n",
    "mi = 300.0\n",
    "desvio_padrao = 50\n",
    "Z_superior = (350 - mi) / desvio_padrao\n",
    "Z_inferior = (250 - mi) / desvio_padrao\n",
    "prob_1 = norm.cdf(Z_superior) - norm.cdf(Z_inferior)\n",
    "print(prob_1)\n",
    "# 2) Entre R$ 400,00 e R$ 500,00 \n",
    "Z_superior = (500 - mi) / desvio_padrao\n",
    "Z_inferior = (400 - mi) / desvio_padrao\n",
    "prob_2 = norm.cdf(Z_superior) - norm.cdf(Z_inferior)\n",
    "print(prob_2)"
   ]
  },
  {
   "cell_type": "code",
   "execution_count": 7,
   "metadata": {},
   "outputs": [
    {
     "name": "stdout",
     "output_type": "stream",
     "text": [
      "0.8315294174398976\n",
      "0.0038303805675897365\n",
      "-0.2177\n"
     ]
    }
   ],
   "source": [
    "# O Inmetro verificou que as lâmpadas incandescentes da fabricante XPTO\n",
    "# apresentam uma vida útil normalmente distribuída, com média igual a 720\n",
    "# dias e desvio padrão igual a 30 dias. Calcule a probabilidade de uma \n",
    "# lâmpada, escolhida ao acaso, durar:\n",
    "# 1) Entre 650 e 750 dias\n",
    "mi = 720.0\n",
    "desvio_padrao = 30.0\n",
    "Z_superior = (750 - mi) / desvio_padrao\n",
    "Z_inferior = (650 - mi) / desvio_padrao\n",
    "prob_1 = norm.cdf(Z_superior) - norm.cdf(Z_inferior)\n",
    "print(prob_1)\n",
    "# 2) Mais que 800 dias\n",
    "Z = (800 - mi) / desvio_padrao\n",
    "prob_2 = norm.cdf(-Z)\n",
    "print(prob_2)\n",
    "# 3) Menos que 700 dias\n",
    "Z = (700 - mi)/ desvio_padrao\n",
    "prob_3 = norm.cdf(Z)\n",
    "print(0.7823- 1)"
   ]
  },
  {
   "cell_type": "code",
   "execution_count": 8,
   "metadata": {},
   "outputs": [
    {
     "data": {
      "text/plain": [
       "1.6631151493507597"
      ]
     },
     "execution_count": 8,
     "metadata": {},
     "output_type": "execute_result"
    }
   ],
   "source": [
    "import numpy as np\n",
    "# Para estimar o valor médio gasto por cada cliente de uma grande rede de fast-food, foi selecionada uma amostra de 50 clientes.\n",
    "# Assumindo que o valor do desvio padrão da população seja de R$ 6,00 e que esta população se distribui normalmente, \n",
    "# obtenha a margem de erro desta estimativa para um nível de confiança de 95%.\n",
    "desvio_padrao = 6.00\n",
    "z = 1.96\n",
    "n = 50\n",
    "raiz_n = np.sqrt(n)\n",
    "sigma = desvio_padrao / raiz_n\n",
    "e= z * sigma\n",
    "e"
   ]
  },
  {
   "cell_type": "code",
   "execution_count": 9,
   "metadata": {},
   "outputs": [
    {
     "data": {
      "text/plain": [
       "(27.592969951356466, 28.407030048643534)"
      ]
     },
     "execution_count": 9,
     "metadata": {},
     "output_type": "execute_result"
    }
   ],
   "source": [
    "# Uma amostra aleatória simples de 1976 itens de uma população normalmente distribuída, \n",
    "# com desvio padrão populacional igual a 11, resultou em uma média amostral de 28.\n",
    "# Qual o intervalo de confiança de 90% para a média populacional?\n",
    "desvio_padrao = 11\n",
    "n = 1976\n",
    "media_amostra = 28\n",
    "sigma = desvio_padrao / np.sqrt(n)\n",
    "significancia = 0.9\n",
    "norm.interval(confidence=significancia, loc = media_amostra , scale= sigma)"
   ]
  },
  {
   "cell_type": "code",
   "execution_count": 10,
   "metadata": {},
   "outputs": [
    {
     "data": {
      "text/plain": [
       "29"
      ]
     },
     "execution_count": 10,
     "metadata": {},
     "output_type": "execute_result"
    }
   ],
   "source": [
    "# O valor do gasto médio dos clientes de uma loja de conveniência é de R$ 45,50. \n",
    "# Assumindo que o desvio padrão dos gastos é igual a R$ 15,00,\n",
    "# qual deve ser o tamanho da amostra para estimarmos a média populacional\n",
    "# com um nível de significância de 10%?\n",
    "# Considere que o erro máximo aceitável seja de 10%.\n",
    "sigma = 15.0\n",
    "z = norm.ppf(((0.9/2)+0.5))\n",
    "e = 45.5 * 0.1\n",
    "n = (z * (sigma / e)) ** 2\n",
    "int(n.round())"
   ]
  },
  {
   "cell_type": "code",
   "execution_count": 11,
   "metadata": {},
   "outputs": [
    {
     "data": {
      "text/plain": [
       "10"
      ]
     },
     "execution_count": 11,
     "metadata": {},
     "output_type": "execute_result"
    }
   ],
   "source": [
    "# Um fabricante de farinha verificou que, em uma amostra aleatória formada por 200 sacos de 25 kg de um lote formado por 2.000 sacos,\n",
    "#  apresentou um desvio padrão amostral do peso igual a 480 g.\n",
    "\n",
    "# Considerando um erro máximo associado à média populacional igual a 0,3 kg e um nível de confiança igual a 95%,\n",
    "#  qual tamanho de amostra deveria ser selecionado para obtermos uma estimativa confiável do parâmetro populacional?\n",
    "N = 2000\n",
    "s = 480\n",
    "e = 300\n",
    "z = norm.ppf((0.5 + (0.95 / 2)))\n",
    "\n",
    "n = (z ** (2) * (s ** 2) * (N)) / (((z ** 2) * (s ** 2)) + ((e **2) * (N - 1)))\n",
    "int(n.round())"
   ]
  },
  {
   "cell_type": "markdown",
   "metadata": {},
   "source": [
    "### Uma empresa de e-commerce está interessada em analisar o tempo de permanência dos usuários em seu site. Após uma reunião com a equipe de análise de dados, foram estabelecidas as seguintes diretrizes:\n",
    "\n",
    "A. O estudo deve ser concluído em 3 meses;\n",
    "\n",
    "B. O orçamento disponível para a pesquisa é de $50,000;\n",
    "\n",
    "C. A empresa deseja uma margem de erro não superior a 8% em relação à média estimada do tempo de permanência dos usuários.\n",
    "\n",
    "A equipe tem dados históricos que mostram que o tempo médio de permanência dos usuários é de 5 minutos, com um desvio padrão de 2 minutos.\n",
    "O custo médio por entrevista realizada na pesquisa sobre o tempo de permanência dos usuários é de $80.\n",
    "\n",
    "### Agora, com base nesse cenário, responda às seguintes questões:\n",
    "\n",
    "0. Realize uma amostragem aleatória simples em um novo conjunto de dados simulados, contendo informações sobre o tempo de permanência de 300 usuários. Obtenha a média e o desvio padrão dessa amostra.\n",
    "\n",
    "1. Determine os tamanhos de amostra necessários para garantir níveis de confiança de 90%, 95% e 99%, considerando a margem de erro especificada pela empresa.\n",
    "\n",
    "3. Calcule o custo da pesquisa para os três níveis de confiança.\n",
    "\n",
    "4. Para o maior nível de confiança viável dentro do orçamento disponível, obtenha um intervalo de confiança para a média do tempo de permanência dos usuários.\n",
    "\n",
    "5. Assumindo o nível de confiança escolhido no item anterior, determine a margem de erro que pode ser considerada utilizando todo o recurso disponibilizado pela empresa.\n",
    "\n",
    "6. Assumindo um nível de confiança de 95%, quanto a pesquisa custaria à empresa se fosse considerada uma margem de erro de apenas 6% em relação à média estimada do tempo de permanência dos usuários?"
   ]
  },
  {
   "cell_type": "code",
   "execution_count": 12,
   "metadata": {},
   "outputs": [],
   "source": [
    "import pandas as pd\n",
    "import numpy as np\n",
    "from scipy.stats import poisson\n",
    "from scipy.stats import norm\n",
    "import matplotlib.pyplot as plt\n",
    "from scipy.special import comb\n",
    "from scipy.stats import binom "
   ]
  },
  {
   "cell_type": "code",
   "execution_count": 13,
   "metadata": {},
   "outputs": [
    {
     "data": {
      "text/html": [
       "<div>\n",
       "<style scoped>\n",
       "    .dataframe tbody tr th:only-of-type {\n",
       "        vertical-align: middle;\n",
       "    }\n",
       "\n",
       "    .dataframe tbody tr th {\n",
       "        vertical-align: top;\n",
       "    }\n",
       "\n",
       "    .dataframe thead th {\n",
       "        text-align: right;\n",
       "    }\n",
       "</style>\n",
       "<table border=\"1\" class=\"dataframe\">\n",
       "  <thead>\n",
       "    <tr style=\"text-align: right;\">\n",
       "      <th></th>\n",
       "      <th>user_id</th>\n",
       "      <th>tempo_permanencia</th>\n",
       "    </tr>\n",
       "  </thead>\n",
       "  <tbody>\n",
       "    <tr>\n",
       "      <th>0</th>\n",
       "      <td>1</td>\n",
       "      <td>6</td>\n",
       "    </tr>\n",
       "    <tr>\n",
       "      <th>1</th>\n",
       "      <td>2</td>\n",
       "      <td>5</td>\n",
       "    </tr>\n",
       "    <tr>\n",
       "      <th>2</th>\n",
       "      <td>3</td>\n",
       "      <td>4</td>\n",
       "    </tr>\n",
       "    <tr>\n",
       "      <th>3</th>\n",
       "      <td>4</td>\n",
       "      <td>7</td>\n",
       "    </tr>\n",
       "    <tr>\n",
       "      <th>4</th>\n",
       "      <td>5</td>\n",
       "      <td>5</td>\n",
       "    </tr>\n",
       "  </tbody>\n",
       "</table>\n",
       "</div>"
      ],
      "text/plain": [
       "   user_id  tempo_permanencia\n",
       "0        1                  6\n",
       "1        2                  5\n",
       "2        3                  4\n",
       "3        4                  7\n",
       "4        5                  5"
      ]
     },
     "execution_count": 13,
     "metadata": {},
     "output_type": "execute_result"
    }
   ],
   "source": [
    "df = pd.read_csv('dados_ex.csv')\n",
    "df.head()"
   ]
  },
  {
   "cell_type": "code",
   "execution_count": 14,
   "metadata": {},
   "outputs": [],
   "source": [
    "dados = df.tempo_permanencia.sample(n=300, random_state=101)"
   ]
  },
  {
   "cell_type": "markdown",
   "metadata": {},
   "source": [
    "### Dados obtidos"
   ]
  },
  {
   "cell_type": "code",
   "execution_count": 15,
   "metadata": {},
   "outputs": [],
   "source": [
    "orcamento_total = 50000\n",
    "media = 5\n",
    "desvio_padrao = 2\n",
    "custo_por_un = 80"
   ]
  },
  {
   "cell_type": "markdown",
   "metadata": {},
   "source": [
    "### 1"
   ]
  },
  {
   "cell_type": "code",
   "execution_count": 16,
   "metadata": {},
   "outputs": [
    {
     "name": "stdout",
     "output_type": "stream",
     "text": [
      "Tamanho de Amostra para 90% de confiança: 68\n",
      "Tamanho de Amostra para 95% de confiança: 96\n",
      "Tamanho de Amostra para 99% de confiança: 166\n"
     ]
    }
   ],
   "source": [
    "e = 0.08 * media \n",
    "z_90 = norm.ppf((0.5+0.45))\n",
    "n_custo_90 = (z_90 * (desvio_padrao / e)) ** 2\n",
    "z_95 = norm.ppf((0.5+0.475))\n",
    "n_custo_95 = (z_95 * (desvio_padrao / e)) ** 2\n",
    "z_99 = norm.ppf((0.5+(.99/2)))\n",
    "n_custo_99 = (z_99 * (desvio_padrao / e)) ** 2\n",
    "print(\"Tamanho de Amostra para 90% de confiança:\", round(n_custo_90))\n",
    "print(\"Tamanho de Amostra para 95% de confiança:\", round(n_custo_95))\n",
    "print(\"Tamanho de Amostra para 99% de confiança:\", round(n_custo_99))"
   ]
  },
  {
   "cell_type": "markdown",
   "metadata": {},
   "source": [
    "### 2"
   ]
  },
  {
   "cell_type": "code",
   "execution_count": 17,
   "metadata": {},
   "outputs": [
    {
     "name": "stdout",
     "output_type": "stream",
     "text": [
      "Custo da pesquisa para 90% de confiança: 5411.09\n",
      "Custo da pesquisa para 95% de confiança: 7682.92\n",
      "Custo da pesquisa para 99% de confiança: 13269.79\n"
     ]
    }
   ],
   "source": [
    "custo_pesquisa_90 = n_custo_90 * custo_por_un\n",
    "custo_pesquisa_95 = n_custo_95 * custo_por_un\n",
    "custo_pesquisa_99 = n_custo_99 * custo_por_un\n",
    "\n",
    "print(f\"Custo da pesquisa para 90% de confiança: {custo_pesquisa_90:.2f}\")\n",
    "print(f\"Custo da pesquisa para 95% de confiança: {custo_pesquisa_95:.2f}\")\n",
    "print(f\"Custo da pesquisa para 99% de confiança: {custo_pesquisa_99:.2f}\")"
   ]
  },
  {
   "cell_type": "markdown",
   "metadata": {},
   "source": [
    "### 3"
   ]
  },
  {
   "cell_type": "code",
   "execution_count": 18,
   "metadata": {},
   "outputs": [
    {
     "data": {
      "text/plain": [
       "(4.6, 5.4)"
      ]
     },
     "execution_count": 18,
     "metadata": {},
     "output_type": "execute_result"
    }
   ],
   "source": [
    "norm.interval(confidence=0.99, loc=media, scale= (desvio_padrao/ np.sqrt(n_custo_99)))"
   ]
  },
  {
   "cell_type": "markdown",
   "metadata": {},
   "source": [
    "### 4"
   ]
  },
  {
   "cell_type": "code",
   "execution_count": 19,
   "metadata": {},
   "outputs": [
    {
     "data": {
      "text/plain": [
       "4"
      ]
     },
     "execution_count": 19,
     "metadata": {},
     "output_type": "execute_result"
    }
   ],
   "source": [
    "n_confianca_max = orcamento_total / custo_por_un\n",
    "z_max = norm.ppf((.5+(.99/2)))\n",
    "e = z_max*(desvio_padrao / np.sqrt(n_confianca_max))\n",
    "e_perc = e/ media\n",
    "int(round(e_perc * 100))"
   ]
  },
  {
   "cell_type": "markdown",
   "metadata": {},
   "source": [
    "### 6"
   ]
  },
  {
   "cell_type": "code",
   "execution_count": 20,
   "metadata": {},
   "outputs": [
    {
     "data": {
      "text/plain": [
       "13658.520251356891"
      ]
     },
     "execution_count": 20,
     "metadata": {},
     "output_type": "execute_result"
    }
   ],
   "source": [
    "e = 0.06 * media\n",
    "z = norm.ppf((0.5 + (0.95/2)))\n",
    "n_custo_6 = (z * (desvio_padrao / e)) ** 2\n",
    "n_custo_6 * custo_por_un"
   ]
  },
  {
   "cell_type": "markdown",
   "metadata": {},
   "source": [
    "## Desafio 2"
   ]
  },
  {
   "cell_type": "markdown",
   "metadata": {},
   "source": [
    " Considere que você está conduzindo uma pesquisa para avaliar a satisfação dos clientes em relação a um produto específico. Você tem acesso a uma base de dados fictícia contendo as avaliações de 500 clientes em uma escala de 1 a 10. Aqui estão as etapas do exercício:\n",
    "\n",
    "### 1.Amostra Aleatória Simples:\n",
    "    Realize uma amostragem aleatória simples em nosso conjunto de dados. Essa amostra deve conter 150 elementos (utilize random_state = 42 para garantir a reprodutibilidade). Obtenha a média e o desvio-padrão dessa amostra.\n",
    "\n",
    "### 2.Margem de Erro e Tamanho de Amostra:\n",
    "    Com base na média e no desvio-padrão da amostra, determine os tamanhos de amostra necessários para garantir margens de erro de 5%, 7%, e 10% para níveis de confiança de 95% respectivamente\n",
    "\n",
    "### 3.Custo da Pesquisa:\n",
    "    Considere que o valor disponível para a pesquisa é de R$ 5.000,00. Calcule o custo da pesquisa para os três diferentes tamanhos de amostra considerando um custo médio de R$ 80,00 por entrevistado.\n",
    "\n",
    "### 4.Intervalo de Confiança:\n",
    "    Para o maior nível de confiança viável dentro do orçamento disponível, obtenha um intervalo de confiança para a média da satisfação dos clientes. Utilize um nível de significância α de 0.05.\n",
    "\n",
    "### 5.Margem de Erro Total:\n",
    "    Assumindo o nível de confiança escolhido no item anterior, determine a margem de erro que pode ser considerada utilizando todo o recurso disponibilizado para a pesquisa.\n",
    "\n",
    "### 6.Custo com Margem de Erro:\n",
    "    Assumindo um nível de confiança de 95%, calcule o custo da pesquisa considerando uma margem de erro de apenas 6% em relação à média estimada de satisfação dos clientes."
   ]
  },
  {
   "cell_type": "code",
   "execution_count": 21,
   "metadata": {},
   "outputs": [],
   "source": [
    "import pandas as pd\n",
    "import numpy as np\n",
    "from scipy.stats import poisson, norm, binom\n",
    "from scipy.special import comb\n",
    "import matplotlib.pyplot as plt"
   ]
  },
  {
   "cell_type": "code",
   "execution_count": 22,
   "metadata": {},
   "outputs": [
    {
     "data": {
      "text/html": [
       "<div>\n",
       "<style scoped>\n",
       "    .dataframe tbody tr th:only-of-type {\n",
       "        vertical-align: middle;\n",
       "    }\n",
       "\n",
       "    .dataframe tbody tr th {\n",
       "        vertical-align: top;\n",
       "    }\n",
       "\n",
       "    .dataframe thead th {\n",
       "        text-align: right;\n",
       "    }\n",
       "</style>\n",
       "<table border=\"1\" class=\"dataframe\">\n",
       "  <thead>\n",
       "    <tr style=\"text-align: right;\">\n",
       "      <th></th>\n",
       "      <th>cliente</th>\n",
       "      <th>satisfacao</th>\n",
       "    </tr>\n",
       "  </thead>\n",
       "  <tbody>\n",
       "    <tr>\n",
       "      <th>0</th>\n",
       "      <td>1</td>\n",
       "      <td>8</td>\n",
       "    </tr>\n",
       "    <tr>\n",
       "      <th>1</th>\n",
       "      <td>2</td>\n",
       "      <td>7</td>\n",
       "    </tr>\n",
       "    <tr>\n",
       "      <th>2</th>\n",
       "      <td>3</td>\n",
       "      <td>6</td>\n",
       "    </tr>\n",
       "    <tr>\n",
       "      <th>3</th>\n",
       "      <td>4</td>\n",
       "      <td>9</td>\n",
       "    </tr>\n",
       "    <tr>\n",
       "      <th>4</th>\n",
       "      <td>5</td>\n",
       "      <td>5</td>\n",
       "    </tr>\n",
       "  </tbody>\n",
       "</table>\n",
       "</div>"
      ],
      "text/plain": [
       "   cliente  satisfacao\n",
       "0        1           8\n",
       "1        2           7\n",
       "2        3           6\n",
       "3        4           9\n",
       "4        5           5"
      ]
     },
     "execution_count": 22,
     "metadata": {},
     "output_type": "execute_result"
    }
   ],
   "source": [
    "df = pd.read_csv(\"dados_ex2.csv\")\n",
    "df.head()"
   ]
  },
  {
   "cell_type": "markdown",
   "metadata": {},
   "source": [
    "### 1"
   ]
  },
  {
   "cell_type": "code",
   "execution_count": 27,
   "metadata": {},
   "outputs": [
    {
     "data": {
      "text/plain": [
       "150"
      ]
     },
     "execution_count": 27,
     "metadata": {},
     "output_type": "execute_result"
    }
   ],
   "source": [
    "dados = df['satisfacao'].sample(n= 150, random_state=42)\n",
    "dados.shape[0]"
   ]
  },
  {
   "cell_type": "code",
   "execution_count": 54,
   "metadata": {},
   "outputs": [],
   "source": [
    "media = dados.mean()\n",
    "desvio_padrao = dados.std()\n",
    "custo_uni = 80.0\n",
    "orcamento = 5000.00"
   ]
  },
  {
   "cell_type": "markdown",
   "metadata": {},
   "source": [
    "### 2"
   ]
  },
  {
   "cell_type": "code",
   "execution_count": 41,
   "metadata": {},
   "outputs": [],
   "source": [
    "# 95% e erro 5 %\n",
    "z = norm.ppf((0.5 + (.95/ 2)))\n",
    "e_5 = (media * 0.05)\n",
    "e_7 = (media * 0.07)\n",
    "e_10 = (media * 0.10)"
   ]
  },
  {
   "cell_type": "code",
   "execution_count": 45,
   "metadata": {},
   "outputs": [
    {
     "name": "stdout",
     "output_type": "stream",
     "text": [
      "o numero de amostras para um nivel de confiança de 95% com erro maximo de 5% é 54.61758867524427\n",
      "o numero de amostras para um nivel de confiança de 95% com erro maximo de 7% é 27.86611667104299\n",
      "o numero de amostras para um nivel de confiança de 95% com erro maximo de 10% é 13.654397168811068\n"
     ]
    }
   ],
   "source": [
    "n_5 = (z * (desvio_padrao/e_5))** 2 \n",
    "n_7 = (z * (desvio_padrao/e_7))** 2\n",
    "n_10 = (z * (desvio_padrao/e_10))** 2  \n",
    "print(f\"o numero de amostras para um nivel de confiança de 95% com erro maximo de 5% é {n_5}\")\n",
    "print(f\"o numero de amostras para um nivel de confiança de 95% com erro maximo de 7% é {n_7}\")\n",
    "print(f\"o numero de amostras para um nivel de confiança de 95% com erro maximo de 10% é {n_10}\")"
   ]
  },
  {
   "cell_type": "markdown",
   "metadata": {},
   "source": [
    "### 3"
   ]
  },
  {
   "cell_type": "code",
   "execution_count": 51,
   "metadata": {},
   "outputs": [
    {
     "name": "stdout",
     "output_type": "stream",
     "text": [
      "O custo paraa realização da pesquisa com erro maximo de 5% é R$ 4369.41\n",
      "O custo paraa realização da pesquisa com erro maximo de 7% é R$ 2229.29\n",
      "O custo paraa realização da pesquisa com erro maximo de 10% é R$ 1092.35\n"
     ]
    }
   ],
   "source": [
    "custo_n_5 = n_5 * custo_uni\n",
    "custo_n_7 = n_7 * custo_uni\n",
    "custo_n_10 = n_10 * custo_uni\n",
    "print(f\"O custo paraa realização da pesquisa com erro maximo de 5% é R$ {round(custo_n_5, 2)}\")\n",
    "print(f\"O custo paraa realização da pesquisa com erro maximo de 7% é R$ {round(custo_n_7, 2)}\")\n",
    "print(f\"O custo paraa realização da pesquisa com erro maximo de 10% é R$ {round(custo_n_10, 2)}\")"
   ]
  },
  {
   "cell_type": "markdown",
   "metadata": {},
   "source": [
    "### 4"
   ]
  },
  {
   "cell_type": "code",
   "execution_count": 52,
   "metadata": {},
   "outputs": [
    {
     "data": {
      "text/plain": [
       "(6.89966857726983, 6.993664756063502)"
      ]
     },
     "execution_count": 52,
     "metadata": {},
     "output_type": "execute_result"
    }
   ],
   "source": [
    "significancia = 0.05\n",
    "confianca = 1 - significancia\n",
    "intervalo_confianca = norm.interval(confidence= confianca, loc = media, scale= (desvio_padrao / n_5))\n",
    "intervalo_confianca "
   ]
  },
  {
   "cell_type": "markdown",
   "metadata": {},
   "source": [
    "### 5"
   ]
  },
  {
   "cell_type": "code",
   "execution_count": 81,
   "metadata": {},
   "outputs": [
    {
     "data": {
      "text/plain": [
       "4.67"
      ]
     },
     "execution_count": 81,
     "metadata": {},
     "output_type": "execute_result"
    }
   ],
   "source": [
    "n_max = orcamento/ custo_uni\n",
    "z_max = norm.ppf(0.5 + (0.95/ 2))\n",
    "e_max = z_max * (desvio_padrao / np.sqrt(n_max))\n",
    "e_porc = (e_max/ media) * 100\n",
    "round(e_porc, 2)"
   ]
  },
  {
   "cell_type": "markdown",
   "metadata": {},
   "source": [
    "### 6 "
   ]
  },
  {
   "cell_type": "code",
   "execution_count": 83,
   "metadata": {},
   "outputs": [
    {
     "data": {
      "text/plain": [
       "3034.3104819580158"
      ]
     },
     "execution_count": 83,
     "metadata": {},
     "output_type": "execute_result"
    }
   ],
   "source": [
    "e = media * 0.06\n",
    "z = norm.ppf(0.5 + (0.95/2))\n",
    "n_6 = (z * (desvio_padrao/ e)) **  2\n",
    "custo_6 = n_6 * custo_uni\n",
    "custo_6"
   ]
  },
  {
   "cell_type": "code",
   "execution_count": 6,
   "metadata": {},
   "outputs": [
    {
     "name": "stdout",
     "output_type": "stream",
     "text": [
      "Tamanho de amostra necessário: 1537\n"
     ]
    }
   ],
   "source": [
    "import numpy as np\n",
    "from scipy.stats import norm\n",
    "\n",
    "# Parâmetros do experimento\n",
    "effect_size = 0.5  # Tamanho do efeito desejado\n",
    "alpha = 0.05       # Nível de significância\n",
    "std_dev = 10       # Desvio padrão conhecido da população\n",
    "\n",
    "# Z-score para o nível de significância\n",
    "z_alpha = norm.ppf(1 - alpha/2)\n",
    "\n",
    "# Calcula o tamanho de amostra necessário\n",
    "sample_size = (z_alpha * std_dev / effect_size)**2\n",
    "\n",
    "# Exibir o resultado\n",
    "print(f'Tamanho de amostra necessário: {int(np.ceil(sample_size))}')\n",
    "\n",
    "\n"
   ]
  }
 ],
 "metadata": {
  "kernelspec": {
   "display_name": "Python 3",
   "language": "python",
   "name": "python3"
  },
  "language_info": {
   "codemirror_mode": {
    "name": "ipython",
    "version": 3
   },
   "file_extension": ".py",
   "mimetype": "text/x-python",
   "name": "python",
   "nbconvert_exporter": "python",
   "pygments_lexer": "ipython3",
   "version": "3.11.3"
  }
 },
 "nbformat": 4,
 "nbformat_minor": 2
}
