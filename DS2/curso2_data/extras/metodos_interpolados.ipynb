{
 "cells": [
  {
   "cell_type": "code",
   "execution_count": 1,
   "metadata": {},
   "outputs": [],
   "source": [
    "import pandas as pd"
   ]
  },
  {
   "cell_type": "code",
   "execution_count": 2,
   "metadata": {},
   "outputs": [
    {
     "data": {
      "text/plain": [
       "0    0.50\n",
       "1     NaN\n",
       "2     NaN\n",
       "3    0.54\n",
       "4     NaN\n",
       "5     NaN\n",
       "6    0.59\n",
       "7    0.60\n",
       "8     NaN\n",
       "9    0.70\n",
       "dtype: float64"
      ]
     },
     "execution_count": 2,
     "metadata": {},
     "output_type": "execute_result"
    }
   ],
   "source": [
    "data = [0.5, None, None, 0.54, None, None, 0.59, 0.6, None, 0.7]\n",
    "s = pd.Series(data)\n",
    "s"
   ]
  },
  {
   "cell_type": "code",
   "execution_count": 3,
   "metadata": {},
   "outputs": [
    {
     "data": {
      "text/plain": [
       "0    0.50\n",
       "1    0.00\n",
       "2    0.00\n",
       "3    0.54\n",
       "4    0.00\n",
       "5    0.00\n",
       "6    0.59\n",
       "7    0.60\n",
       "8    0.00\n",
       "9    0.70\n",
       "dtype: float64"
      ]
     },
     "execution_count": 3,
     "metadata": {},
     "output_type": "execute_result"
    }
   ],
   "source": [
    "s.fillna(0)"
   ]
  },
  {
   "cell_type": "code",
   "execution_count": 4,
   "metadata": {},
   "outputs": [
    {
     "name": "stderr",
     "output_type": "stream",
     "text": [
      "C:\\Users\\luist\\AppData\\Local\\Temp\\ipykernel_11148\\2880824278.py:1: FutureWarning: Series.fillna with 'method' is deprecated and will raise in a future version. Use obj.ffill() or obj.bfill() instead.\n",
      "  s.fillna(method= 'ffill')\n"
     ]
    },
    {
     "data": {
      "text/plain": [
       "0    0.50\n",
       "1    0.50\n",
       "2    0.50\n",
       "3    0.54\n",
       "4    0.54\n",
       "5    0.54\n",
       "6    0.59\n",
       "7    0.60\n",
       "8    0.60\n",
       "9    0.70\n",
       "dtype: float64"
      ]
     },
     "execution_count": 4,
     "metadata": {},
     "output_type": "execute_result"
    }
   ],
   "source": [
    "s.fillna(method= 'ffill')"
   ]
  },
  {
   "cell_type": "code",
   "execution_count": 5,
   "metadata": {},
   "outputs": [
    {
     "name": "stderr",
     "output_type": "stream",
     "text": [
      "C:\\Users\\luist\\AppData\\Local\\Temp\\ipykernel_11148\\1373034748.py:1: FutureWarning: Series.fillna with 'method' is deprecated and will raise in a future version. Use obj.ffill() or obj.bfill() instead.\n",
      "  s.fillna(method= 'bfill')\n"
     ]
    },
    {
     "data": {
      "text/plain": [
       "0    0.50\n",
       "1    0.54\n",
       "2    0.54\n",
       "3    0.54\n",
       "4    0.59\n",
       "5    0.59\n",
       "6    0.59\n",
       "7    0.60\n",
       "8    0.70\n",
       "9    0.70\n",
       "dtype: float64"
      ]
     },
     "execution_count": 5,
     "metadata": {},
     "output_type": "execute_result"
    }
   ],
   "source": [
    "s.fillna(method= 'bfill')"
   ]
  },
  {
   "cell_type": "code",
   "execution_count": 6,
   "metadata": {},
   "outputs": [
    {
     "data": {
      "text/plain": [
       "0    0.500\n",
       "1    0.586\n",
       "2    0.586\n",
       "3    0.540\n",
       "4    0.586\n",
       "5    0.586\n",
       "6    0.590\n",
       "7    0.600\n",
       "8    0.586\n",
       "9    0.700\n",
       "dtype: float64"
      ]
     },
     "execution_count": 6,
     "metadata": {},
     "output_type": "execute_result"
    }
   ],
   "source": [
    "s.fillna(s.mean())"
   ]
  },
  {
   "cell_type": "code",
   "execution_count": 8,
   "metadata": {},
   "outputs": [
    {
     "name": "stderr",
     "output_type": "stream",
     "text": [
      "C:\\Users\\luist\\AppData\\Local\\Temp\\ipykernel_11148\\2379008879.py:1: FutureWarning: Series.fillna with 'method' is deprecated and will raise in a future version. Use obj.ffill() or obj.bfill() instead.\n",
      "  s1 = s.fillna(method= 'ffill', limit= 1)\n",
      "C:\\Users\\luist\\AppData\\Local\\Temp\\ipykernel_11148\\2379008879.py:2: FutureWarning: Series.fillna with 'method' is deprecated and will raise in a future version. Use obj.ffill() or obj.bfill() instead.\n",
      "  s1.fillna(method= 'bfill', limit = 1)\n"
     ]
    },
    {
     "data": {
      "text/plain": [
       "0    0.50\n",
       "1    0.50\n",
       "2    0.54\n",
       "3    0.54\n",
       "4    0.54\n",
       "5    0.59\n",
       "6    0.59\n",
       "7    0.60\n",
       "8    0.60\n",
       "9    0.70\n",
       "dtype: float64"
      ]
     },
     "execution_count": 8,
     "metadata": {},
     "output_type": "execute_result"
    }
   ],
   "source": [
    "s1 = s.fillna(method= 'ffill', limit= 1) # preenche com o de cima\n",
    "s1.fillna(method= 'bfill', limit = 1) # preenche com o debaixo"
   ]
  },
  {
   "cell_type": "code",
   "execution_count": null,
   "metadata": {},
   "outputs": [],
   "source": []
  }
 ],
 "metadata": {
  "kernelspec": {
   "display_name": "venv",
   "language": "python",
   "name": "python3"
  },
  "language_info": {
   "codemirror_mode": {
    "name": "ipython",
    "version": 3
   },
   "file_extension": ".py",
   "mimetype": "text/x-python",
   "name": "python",
   "nbconvert_exporter": "python",
   "pygments_lexer": "ipython3",
   "version": "3.11.3"
  }
 },
 "nbformat": 4,
 "nbformat_minor": 2
}
